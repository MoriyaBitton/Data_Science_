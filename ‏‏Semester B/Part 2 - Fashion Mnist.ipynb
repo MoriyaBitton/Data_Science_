{
 "cells": [
  {
   "cell_type": "markdown",
   "id": "2e935655",
   "metadata": {},
   "source": [
    "# Part 2\n",
    "\n",
    "# Fashion-Mnist Classification"
   ]
  },
  {
   "cell_type": "code",
   "execution_count": 30,
   "id": "80647438",
   "metadata": {},
   "outputs": [],
   "source": [
    "import tensorflow as tf\n",
    "from tensorflow import keras\n",
    "import numpy as np\n",
    "import pandas as pd\n",
    "import matplotlib.pyplot as plt\n",
    "import seaborn as sns \n",
    "from mpl_toolkits.mplot3d import Axes3D"
   ]
  },
  {
   "cell_type": "markdown",
   "id": "ec0ee6da",
   "metadata": {},
   "source": [
    "## load the data"
   ]
  },
  {
   "cell_type": "code",
   "execution_count": 31,
   "id": "089e5b62",
   "metadata": {},
   "outputs": [],
   "source": [
    "fashion_mnist = keras.datasets.fashion_mnist\n",
    "\n",
    "(train_images, train_labels), (test_images, test_labels) = fashion_mnist.load_data()"
   ]
  },
  {
   "cell_type": "markdown",
   "id": "59423aff",
   "metadata": {},
   "source": [
    "## some data information"
   ]
  },
  {
   "cell_type": "code",
   "execution_count": 32,
   "id": "40655197",
   "metadata": {},
   "outputs": [
    {
     "data": {
      "text/plain": [
       "(60000, 28, 28)"
      ]
     },
     "execution_count": 32,
     "metadata": {},
     "output_type": "execute_result"
    }
   ],
   "source": [
    "train_images.shape"
   ]
  },
  {
   "cell_type": "code",
   "execution_count": 33,
   "id": "70e83c73",
   "metadata": {},
   "outputs": [
    {
     "data": {
      "text/plain": [
       "(10000, 28, 28)"
      ]
     },
     "execution_count": 33,
     "metadata": {},
     "output_type": "execute_result"
    }
   ],
   "source": [
    "test_images.shape"
   ]
  },
  {
   "cell_type": "markdown",
   "id": "48aac48d",
   "metadata": {},
   "source": [
    "## about the labels"
   ]
  },
  {
   "cell_type": "code",
   "execution_count": 34,
   "id": "55c067da",
   "metadata": {},
   "outputs": [
    {
     "data": {
      "text/plain": [
       "{0: 6000,\n",
       " 1: 6000,\n",
       " 2: 6000,\n",
       " 3: 6000,\n",
       " 4: 6000,\n",
       " 5: 6000,\n",
       " 6: 6000,\n",
       " 7: 6000,\n",
       " 8: 6000,\n",
       " 9: 6000}"
      ]
     },
     "execution_count": 34,
     "metadata": {},
     "output_type": "execute_result"
    }
   ],
   "source": [
    "unique, counts = np.unique(train_labels, return_counts=True)\n",
    "dict(zip(unique, counts))"
   ]
  },
  {
   "cell_type": "code",
   "execution_count": 35,
   "id": "75117067",
   "metadata": {},
   "outputs": [
    {
     "data": {
      "text/html": [
       "<div>\n",
       "<style scoped>\n",
       "    .dataframe tbody tr th:only-of-type {\n",
       "        vertical-align: middle;\n",
       "    }\n",
       "\n",
       "    .dataframe tbody tr th {\n",
       "        vertical-align: top;\n",
       "    }\n",
       "\n",
       "    .dataframe thead th {\n",
       "        text-align: right;\n",
       "    }\n",
       "</style>\n",
       "<table border=\"1\" class=\"dataframe\">\n",
       "  <thead>\n",
       "    <tr style=\"text-align: right;\">\n",
       "      <th></th>\n",
       "      <th>0</th>\n",
       "      <th>1</th>\n",
       "    </tr>\n",
       "  </thead>\n",
       "  <tbody>\n",
       "    <tr>\n",
       "      <th>0</th>\n",
       "      <td>T-shirt/top</td>\n",
       "      <td>0</td>\n",
       "    </tr>\n",
       "    <tr>\n",
       "      <th>1</th>\n",
       "      <td>Trouser</td>\n",
       "      <td>1</td>\n",
       "    </tr>\n",
       "    <tr>\n",
       "      <th>2</th>\n",
       "      <td>Pullover</td>\n",
       "      <td>2</td>\n",
       "    </tr>\n",
       "    <tr>\n",
       "      <th>3</th>\n",
       "      <td>Dress</td>\n",
       "      <td>3</td>\n",
       "    </tr>\n",
       "    <tr>\n",
       "      <th>4</th>\n",
       "      <td>Coat</td>\n",
       "      <td>4</td>\n",
       "    </tr>\n",
       "    <tr>\n",
       "      <th>5</th>\n",
       "      <td>Sandal</td>\n",
       "      <td>5</td>\n",
       "    </tr>\n",
       "    <tr>\n",
       "      <th>6</th>\n",
       "      <td>Shirt</td>\n",
       "      <td>6</td>\n",
       "    </tr>\n",
       "    <tr>\n",
       "      <th>7</th>\n",
       "      <td>Sneaker</td>\n",
       "      <td>7</td>\n",
       "    </tr>\n",
       "    <tr>\n",
       "      <th>8</th>\n",
       "      <td>Bag</td>\n",
       "      <td>8</td>\n",
       "    </tr>\n",
       "    <tr>\n",
       "      <th>9</th>\n",
       "      <td>Ankle boot</td>\n",
       "      <td>9</td>\n",
       "    </tr>\n",
       "  </tbody>\n",
       "</table>\n",
       "</div>"
      ],
      "text/plain": [
       "             0  1\n",
       "0  T-shirt/top  0\n",
       "1      Trouser  1\n",
       "2     Pullover  2\n",
       "3        Dress  3\n",
       "4         Coat  4\n",
       "5       Sandal  5\n",
       "6        Shirt  6\n",
       "7      Sneaker  7\n",
       "8          Bag  8\n",
       "9   Ankle boot  9"
      ]
     },
     "execution_count": 35,
     "metadata": {},
     "output_type": "execute_result"
    }
   ],
   "source": [
    "class_names = ['T-shirt/top', 'Trouser', 'Pullover', 'Dress', 'Coat', 'Sandal', 'Shirt', 'Sneaker', 'Bag', 'Ankle boot']\n",
    "dic = dict(zip(class_names, unique))\n",
    "df = pd.DataFrame(dic.items())\n",
    "df"
   ]
  },
  {
   "cell_type": "markdown",
   "id": "178765b4",
   "metadata": {},
   "source": [
    "### Lets plot images"
   ]
  },
  {
   "cell_type": "code",
   "execution_count": 36,
   "id": "d5b224e3",
   "metadata": {},
   "outputs": [
    {
     "data": {
      "image/png": "[encoded data removed]",
      "text/plain": [
       "<Figure size 720x720 with 25 Axes>"
      ]
     },
     "metadata": {},
     "output_type": "display_data"
    }
   ],
   "source": [
    "plt.figure(figsize=(10, 10))\n",
    "\n",
    "for i in range(25):\n",
    "    plt.subplot(5, 5, i+1)\n",
    "    plt.xticks([])\n",
    "    plt.yticks([])\n",
    "    plt.grid(False)\n",
    "    plt.imshow(train_images[i], cmap=plt.cm.binary)\n",
    "    plt.xlabel(class_names[train_labels[i]])\n",
    "     \n",
    "plt.show()"
   ]
  },
  {
   "cell_type": "markdown",
   "id": "dd100e01",
   "metadata": {},
   "source": [
    "## PCA"
   ]
  },
  {
   "cell_type": "markdown",
   "id": "787b8a05",
   "metadata": {},
   "source": [
    "Reshaping the form of the images for PCA."
   ]
  },
  {
   "cell_type": "code",
   "execution_count": 37,
   "id": "1bc5a369",
   "metadata": {},
   "outputs": [],
   "source": [
    "from sklearn.decomposition import PCA\n",
    "\n",
    "train_images = train_images.reshape(len(train_images), 28*28)\n",
    "test_images = test_images.reshape(len(test_images), 28*28)"
   ]
  },
  {
   "cell_type": "markdown",
   "id": "95623437",
   "metadata": {},
   "source": [
    "### Lets plot some sample (500) after PCA transormation"
   ]
  },
  {
   "cell_type": "markdown",
   "id": "a070bde8",
   "metadata": {},
   "source": [
    "First with 3 components:"
   ]
  },
  {
   "cell_type": "code",
   "execution_count": 38,
   "id": "ce1cf680",
   "metadata": {},
   "outputs": [
    {
     "data": {
      "image/png": "[encoded data removed]",
      "text/plain": [
       "<Figure size 576x432 with 1 Axes>"
      ]
     },
     "metadata": {
      "needs_background": "light"
     },
     "output_type": "display_data"
    }
   ],
   "source": [
    "pca = PCA(n_components=3)\n",
    "\n",
    "fig = plt.figure(1, figsize=(8, 6))\n",
    "ax = Axes3D(fig, elev=-150, azim=110)\n",
    "X_reduced = pca.fit_transform(train_images.reshape(len(train_images), 28*28))\n",
    "\n",
    "ax.scatter(X_reduced[:500, 0], X_reduced[:500, 1], X_reduced[:500, 2], c=train_labels[:500],\n",
    "           cmap=plt.cm.Set1, edgecolor='k', s=40)\n",
    "ax.set_title(\"First three PCA directions\")\n",
    "ax.set_xlabel(\"1st eigenvector\")\n",
    "ax.w_xaxis.set_ticklabels([])\n",
    "ax.set_ylabel(\"2nd eigenvector\")\n",
    "ax.w_yaxis.set_ticklabels([])\n",
    "ax.set_zlabel(\"3rd eigenvector\")\n",
    "ax.w_zaxis.set_ticklabels([])\n",
    "\n",
    "plt.show()"
   ]
  },
  {
   "cell_type": "markdown",
   "id": "c2cfb4e8",
   "metadata": {},
   "source": [
    "How many percent of the data are around the axis of the 3 components"
   ]
  },
  {
   "cell_type": "code",
   "execution_count": 39,
   "id": "1bcaeb80",
   "metadata": {},
   "outputs": [
    {
     "name": "stdout",
     "output_type": "stream",
     "text": [
      "[0.29039228 0.1775531  0.06019222]\n",
      "0.5281375988269682\n"
     ]
    }
   ],
   "source": [
    "print(pca.explained_variance_ratio_)\n",
    "print(np.sum(pca.explained_variance_ratio_))"
   ]
  },
  {
   "cell_type": "markdown",
   "id": "e2c9c818",
   "metadata": {},
   "source": [
    "### Lets do the same with 2 components:"
   ]
  },
  {
   "cell_type": "code",
   "execution_count": 40,
   "id": "2ec91bed",
   "metadata": {},
   "outputs": [
    {
     "data": {
      "text/plain": [
       "([], [])"
      ]
     },
     "execution_count": 40,
     "metadata": {},
     "output_type": "execute_result"
    },
    {
     "data": {
      "image/png": "[encoded data removed]",
      "text/plain": [
       "<Figure size 576x432 with 1 Axes>"
      ]
     },
     "metadata": {},
     "output_type": "display_data"
    }
   ],
   "source": [
    "pca = PCA(n_components=2)\n",
    "X_reduced = pca.fit_transform(train_images.reshape(len(train_images), 28*28))\n",
    "\n",
    "x_min, x_max = X_reduced[:200, 0].min() - 150, X_reduced[:200, 0].max() + 150\n",
    "y_min, y_max = X_reduced[:200, 1].min() - 150, X_reduced[:200, 1].max() + 150\n",
    "\n",
    "plt.figure(2, figsize=(8, 6))\n",
    "plt.clf()\n",
    "\n",
    "# Plot the training points\n",
    "plt.scatter(X_reduced[:200, 0], X_reduced[:200, 1], c=train_labels[:200], cmap=plt.cm.Set1, edgecolor='k')\n",
    "plt.xlabel(\"1st eigenvector\")\n",
    "plt.ylabel(\"2nd eigenvector\")\n",
    "plt.title(\"First two PCA directions\")\n",
    "plt.xlim(x_min, x_max)\n",
    "plt.ylim(y_min, y_max)\n",
    "plt.xticks(())\n",
    "plt.yticks(())"
   ]
  },
  {
   "cell_type": "code",
   "execution_count": 41,
   "id": "e528d54b",
   "metadata": {},
   "outputs": [
    {
     "name": "stdout",
     "output_type": "stream",
     "text": [
      "[0.29039228 0.1775531 ]\n",
      "0.46794537899527855\n"
     ]
    }
   ],
   "source": [
    "print(pca.explained_variance_ratio_)\n",
    "print(np.sum(pca.explained_variance_ratio_))"
   ]
  },
  {
   "cell_type": "markdown",
   "id": "a1fde89c",
   "metadata": {},
   "source": [
    "### Finding the optimal number of components"
   ]
  },
  {
   "cell_type": "code",
   "execution_count": 42,
   "id": "aecf609c",
   "metadata": {},
   "outputs": [
    {
     "data": {
      "text/plain": [
       "Text(0, 0.5, 'cumulative explained variance')"
      ]
     },
     "execution_count": 42,
     "metadata": {},
     "output_type": "execute_result"
    },
    {
     "data": {
      "image/png": "[encoded data removed]",
      "text/plain": [
       "<Figure size 432x288 with 1 Axes>"
      ]
     },
     "metadata": {
      "needs_background": "light"
     },
     "output_type": "display_data"
    }
   ],
   "source": [
    "pca = PCA().fit(train_images.reshape(len(train_images), 28*28))\n",
    "\n",
    "plt.plot(np.cumsum(pca.explained_variance_ratio_))\n",
    "plt.xlabel('number of components')\n",
    "plt.ylabel('cumulative explained variance')"
   ]
  },
  {
   "cell_type": "markdown",
   "id": "39ef22c2",
   "metadata": {},
   "source": [
    "We can see that approximately after 100 components the curve no longer raise"
   ]
  },
  {
   "cell_type": "markdown",
   "id": "fe6e8625",
   "metadata": {},
   "source": [
    "### Lets take 100 components and fit and transform the data:"
   ]
  },
  {
   "cell_type": "code",
   "execution_count": 43,
   "id": "3fd2c180",
   "metadata": {},
   "outputs": [],
   "source": [
    "pca = PCA(n_components=100)\n",
    "\n",
    "compressed_train_images = pca.fit_transform(train_images)\n",
    "decompressed_train_images = pca.inverse_transform(compressed_train_images)\n",
    "compressed_test_images = pca.transform(test_images)"
   ]
  },
  {
   "cell_type": "markdown",
   "id": "52eb0d3f",
   "metadata": {},
   "source": [
    "And the result of the transformation:"
   ]
  },
  {
   "cell_type": "code",
   "execution_count": 44,
   "id": "5bed0f12",
   "metadata": {},
   "outputs": [
    {
     "data": {
      "image/png": "[encoded data removed]",
      "text/plain": [
       "<Figure size 576x576 with 2 Axes>"
      ]
     },
     "metadata": {},
     "output_type": "display_data"
    }
   ],
   "source": [
    "plt.figure(figsize=(8, 8))\n",
    "plt.subplot(1, 2 ,1)   \n",
    "plt.xticks([])\n",
    "plt.yticks([])\n",
    "plt.grid(False)\n",
    "plt.xlabel('before compress and decompress', fontsize=12)\n",
    "plt.imshow(train_images[0].reshape(28, 28), cmap=plt.cm.binary)\n",
    "\n",
    "plt.subplot(1, 2, 2)   \n",
    "plt.xticks([])\n",
    "plt.yticks([])\n",
    "plt.grid(False)\n",
    "plt.imshow(decompressed_train_images[0].reshape(28, 28), cmap=plt.cm.binary)\n",
    "plt.xlabel('after compress and decompress', fontsize=12)\n",
    "plt.show()"
   ]
  },
  {
   "cell_type": "markdown",
   "id": "74b4a97f",
   "metadata": {},
   "source": [
    "# Models"
   ]
  },
  {
   "cell_type": "markdown",
   "id": "6caf1584",
   "metadata": {},
   "source": [
    "#### Most of the models are training and testing first with the original data (28x28 pixels image) and after with the compressed data by PCA, the cross validation is apply on the compressed data"
   ]
  },
  {
   "cell_type": "code",
   "execution_count": 51,
   "id": "97e72ab8",
   "metadata": {},
   "outputs": [],
   "source": [
    "from sklearn import metrics\n",
    "from sklearn import tree\n",
    "from sklearn.metrics import classification_report, confusion_matrix\n",
    "\n",
    "import warnings\n",
    "warnings.filterwarnings(\"ignore\")"
   ]
  },
  {
   "cell_type": "code",
   "execution_count": 52,
   "id": "7ead5f14",
   "metadata": {},
   "outputs": [],
   "source": [
    "from sklearn.model_selection import KFold, cross_val_score\n",
    "\n",
    "kf = KFold(n_splits=10, shuffle=True)"
   ]
  },
  {
   "cell_type": "code",
   "execution_count": 53,
   "id": "03219959",
   "metadata": {},
   "outputs": [],
   "source": [
    "def display_scores(scores):\n",
    "    print(\"Mean Accuracy: {:.2f}%\".format(scores.mean()*100))\n",
    "    print(\"Standard deviation: {:.2f}%\".format(scores.std()*100))"
   ]
  },
  {
   "cell_type": "code",
   "execution_count": 54,
   "id": "6ac5b44b",
   "metadata": {},
   "outputs": [],
   "source": [
    "def fit_predict(name, modle, PCA=False):\n",
    "    if (PCA==True):\n",
    "        modle.fit(compressed_train_images, train_labels)\n",
    "        print(name, \"Accuracy with PCA: {:.2f}%\".format(modle.score(compressed_test_images, test_labels)*100), \"\\n\")\n",
    "\n",
    "        y_pred = modle.predict(compressed_test_images)\n",
    "        print(name, \"Matrix with PCA:\\n\", confusion_matrix(test_labels, y_pred), \"\\n\")\n",
    "        print(\"Classification Report:\\n\", classification_report(test_labels, y_pred))\n",
    "    \n",
    "    else:\n",
    "        modle.fit(train_images, train_labels)\n",
    "        print(name, \"Accuracy: {:.2f}%\".format(modle.score(test_images, test_labels)*100), \"\\n\")\n",
    "\n",
    "        y_pred = modle.predict(test_images)\n",
    "        print(name, \"Matrix:\\n\", confusion_matrix(test_labels, y_pred), \"\\n\")\n",
    "        print(\"Classification Report:\\n\", classification_report(test_labels, y_pred))"
   ]
  },
  {
   "cell_type": "markdown",
   "id": "8d2ca6a4",
   "metadata": {},
   "source": [
    "## KNN"
   ]
  },
  {
   "cell_type": "code",
   "execution_count": 59,
   "id": "fd3473ae",
   "metadata": {},
   "outputs": [],
   "source": [
    "from sklearn.neighbors import KNeighborsClassifier\n",
    "\n",
    "knn = KNeighborsClassifier(n_neighbors=5)"
   ]
  },
  {
   "cell_type": "code",
   "execution_count": 60,
   "id": "bbf7bb26",
   "metadata": {},
   "outputs": [
    {
     "name": "stdout",
     "output_type": "stream",
     "text": [
      "KNN Accuracy: 85.54% \n",
      "\n",
      "KNN Matrix:\n",
      " [[855   1  17  16   3   1 100   1   6   0]\n",
      " [  8 968   4  12   4   0   3   0   1   0]\n",
      " [ 24   2 819  11  75   0  69   0   0   0]\n",
      " [ 41   8  15 860  39   0  34   0   3   0]\n",
      " [  2   1 126  26 773   0  71   0   1   0]\n",
      " [  1   0   0   0   0 822   5  96   1  75]\n",
      " [176   1 132  23  80   0 575   0  13   0]\n",
      " [  0   0   0   0   0   3   0 961   0  36]\n",
      " [  2   0  10   4   7   0  16   7 953   1]\n",
      " [  0   0   0   0   0   2   1  29   0 968]] \n",
      "\n",
      "Classification Report:\n",
      "               precision    recall  f1-score   support\n",
      "\n",
      "           0       0.77      0.85      0.81      1000\n",
      "           1       0.99      0.97      0.98      1000\n",
      "           2       0.73      0.82      0.77      1000\n",
      "           3       0.90      0.86      0.88      1000\n",
      "           4       0.79      0.77      0.78      1000\n",
      "           5       0.99      0.82      0.90      1000\n",
      "           6       0.66      0.57      0.61      1000\n",
      "           7       0.88      0.96      0.92      1000\n",
      "           8       0.97      0.95      0.96      1000\n",
      "           9       0.90      0.97      0.93      1000\n",
      "\n",
      "    accuracy                           0.86     10000\n",
      "   macro avg       0.86      0.86      0.85     10000\n",
      "weighted avg       0.86      0.86      0.85     10000\n",
      "\n"
     ]
    }
   ],
   "source": [
    "fit_predict(\"KNN\", knn)"
   ]
  },
  {
   "cell_type": "code",
   "execution_count": 61,
   "id": "ced2f0c0",
   "metadata": {},
   "outputs": [
    {
     "name": "stdout",
     "output_type": "stream",
     "text": [
      "KNN Accuracy with PCA: 86.28% \n",
      "\n",
      "KNN Matrix with PCA:\n",
      " [[841   0  15  19   5   1 108   1  10   0]\n",
      " [  7 969   3  13   4   0   3   0   1   0]\n",
      " [ 21   2 791  11  99   0  75   0   1   0]\n",
      " [ 36   6  15 874  41   0  24   0   4   0]\n",
      " [  2   2 112  24 788   0  68   0   4   0]\n",
      " [  0   0   0   0   0 894   0  59   2  45]\n",
      " [163   1 125  23  94   0 583   0  11   0]\n",
      " [  0   0   0   0   0   6   0 957   0  37]\n",
      " [  2   0   5   5   4   2  11   5 965   1]\n",
      " [  0   0   0   0   0   2   0  31   1 966]] \n",
      "\n",
      "Classification Report:\n",
      "               precision    recall  f1-score   support\n",
      "\n",
      "           0       0.78      0.84      0.81      1000\n",
      "           1       0.99      0.97      0.98      1000\n",
      "           2       0.74      0.79      0.77      1000\n",
      "           3       0.90      0.87      0.89      1000\n",
      "           4       0.76      0.79      0.77      1000\n",
      "           5       0.99      0.89      0.94      1000\n",
      "           6       0.67      0.58      0.62      1000\n",
      "           7       0.91      0.96      0.93      1000\n",
      "           8       0.97      0.96      0.97      1000\n",
      "           9       0.92      0.97      0.94      1000\n",
      "\n",
      "    accuracy                           0.86     10000\n",
      "   macro avg       0.86      0.86      0.86     10000\n",
      "weighted avg       0.86      0.86      0.86     10000\n",
      "\n"
     ]
    }
   ],
   "source": [
    "fit_predict(\"KNN\", knn, True)"
   ]
  },
  {
   "cell_type": "code",
   "execution_count": 62,
   "id": "7b0bb73c",
   "metadata": {},
   "outputs": [
    {
     "name": "stdout",
     "output_type": "stream",
     "text": [
      "Mean Accuracy: 86.34%\n",
      "Standard deviation: 0.37%\n"
     ]
    }
   ],
   "source": [
    "scores = cross_val_score(knn, compressed_train_images, train_labels, cv=kf)\n",
    "display_scores(scores)"
   ]
  },
  {
   "cell_type": "markdown",
   "id": "7e435e4b",
   "metadata": {},
   "source": [
    "## Logistic Regression"
   ]
  },
  {
   "cell_type": "code",
   "execution_count": 63,
   "id": "57a05cf7",
   "metadata": {},
   "outputs": [],
   "source": [
    "from sklearn.linear_model import LogisticRegression\n",
    "\n",
    "logisticRegression = LogisticRegression()"
   ]
  },
  {
   "cell_type": "code",
   "execution_count": 64,
   "id": "1d157796",
   "metadata": {},
   "outputs": [
    {
     "name": "stdout",
     "output_type": "stream",
     "text": [
      "Logistic Regression Accuracy: 84.12% \n",
      "\n",
      "Logistic Regression Matrix:\n",
      " [[812   5  16  46   9   0  98   0  14   0]\n",
      " [  2 960   1  27   4   0   4   0   2   0]\n",
      " [ 18   6 737  11 140   1  78   0   9   0]\n",
      " [ 25  15  15 858  44   1  37   0   5   0]\n",
      " [  0   3 106  33 779   1  70   0   8   0]\n",
      " [  1   1   0   0   0 891   0  56   9  42]\n",
      " [139   3 129  42 114   0 550   0  23   0]\n",
      " [  0   0   0   0   0  36   0 933   0  31]\n",
      " [  3   1   7  10   2   3  21   5 947   1]\n",
      " [  0   0   0   0   0  13   0  39   3 945]] \n",
      "\n",
      "Classification Report:\n",
      "               precision    recall  f1-score   support\n",
      "\n",
      "           0       0.81      0.81      0.81      1000\n",
      "           1       0.97      0.96      0.96      1000\n",
      "           2       0.73      0.74      0.73      1000\n",
      "           3       0.84      0.86      0.85      1000\n",
      "           4       0.71      0.78      0.74      1000\n",
      "           5       0.94      0.89      0.92      1000\n",
      "           6       0.64      0.55      0.59      1000\n",
      "           7       0.90      0.93      0.92      1000\n",
      "           8       0.93      0.95      0.94      1000\n",
      "           9       0.93      0.94      0.94      1000\n",
      "\n",
      "    accuracy                           0.84     10000\n",
      "   macro avg       0.84      0.84      0.84     10000\n",
      "weighted avg       0.84      0.84      0.84     10000\n",
      "\n"
     ]
    }
   ],
   "source": [
    "fit_predict(\"Logistic Regression\", logisticRegression)"
   ]
  },
  {
   "cell_type": "code",
   "execution_count": 65,
   "id": "a8b56473",
   "metadata": {},
   "outputs": [
    {
     "name": "stdout",
     "output_type": "stream",
     "text": [
      "Logistic Regression Accuracy with PCA: 83.96% \n",
      "\n",
      "Logistic Regression Matrix with PCA:\n",
      " [[820   2  12  55   7   4  89   0  11   0]\n",
      " [  3 954   6  29   4   0   3   0   1   0]\n",
      " [ 21   7 725  10 135   2  88   2  10   0]\n",
      " [ 32  14   9 866  27   2  45   0   5   0]\n",
      " [  0   2 100  45 753   2  88   2   8   0]\n",
      " [  0   0   0   0   0 925   0  54   5  16]\n",
      " [142   2 129  40 115   2 545   1  24   0]\n",
      " [  0   0   0   0   0  38   0 925   0  37]\n",
      " [  6   2   7  11   3   5  19   7 937   3]\n",
      " [  0   0   0   0   0  15   0  38   1 946]] \n",
      "\n",
      "Classification Report:\n",
      "               precision    recall  f1-score   support\n",
      "\n",
      "           0       0.80      0.82      0.81      1000\n",
      "           1       0.97      0.95      0.96      1000\n",
      "           2       0.73      0.72      0.73      1000\n",
      "           3       0.82      0.87      0.84      1000\n",
      "           4       0.72      0.75      0.74      1000\n",
      "           5       0.93      0.93      0.93      1000\n",
      "           6       0.62      0.55      0.58      1000\n",
      "           7       0.90      0.93      0.91      1000\n",
      "           8       0.94      0.94      0.94      1000\n",
      "           9       0.94      0.95      0.95      1000\n",
      "\n",
      "    accuracy                           0.84     10000\n",
      "   macro avg       0.84      0.84      0.84     10000\n",
      "weighted avg       0.84      0.84      0.84     10000\n",
      "\n"
     ]
    }
   ],
   "source": [
    "fit_predict(\"Logistic Regression\", logisticRegression, True)"
   ]
  },
  {
   "cell_type": "code",
   "execution_count": 66,
   "id": "6bd38ae9",
   "metadata": {},
   "outputs": [
    {
     "name": "stdout",
     "output_type": "stream",
     "text": [
      "Mean Accuracy: 84.83%\n",
      "Standard deviation: 0.42%\n"
     ]
    }
   ],
   "source": [
    "scores = cross_val_score(logisticRegression, compressed_train_images, train_labels, cv=kf)\n",
    "display_scores(scores)"
   ]
  },
  {
   "cell_type": "markdown",
   "id": "81eeae0b",
   "metadata": {},
   "source": [
    "## Gaussian Naive Bayes"
   ]
  },
  {
   "cell_type": "code",
   "execution_count": 67,
   "id": "712fdbc4",
   "metadata": {},
   "outputs": [],
   "source": [
    "from sklearn.naive_bayes import GaussianNB\n",
    "\n",
    "gaussianNB = GaussianNB()"
   ]
  },
  {
   "cell_type": "code",
   "execution_count": 68,
   "id": "752c6228",
   "metadata": {},
   "outputs": [
    {
     "name": "stdout",
     "output_type": "stream",
     "text": [
      "Gaussian Naive Bayes Accuracy: 58.56% \n",
      "\n",
      "Gaussian Naive Bayes Matrix:\n",
      " [[586  64  29 162 110   0  20   0  29   0]\n",
      " [  1 939  14  36   7   0   1   0   2   0]\n",
      " [  7  14 324  65 545   0  23   0  22   0]\n",
      " [  9 387   6 545  43   0   4   0   6   0]\n",
      " [  0  34  44 131 779   0   4   0   8   0]\n",
      " [  0   0   1   1   0 278   3 660   5  52]\n",
      " [117  34 112 200 435   0  40   0  62   0]\n",
      " [  0   0   0   0   0   3   0 988   0   9]\n",
      " [  0   2  19  85 149   3  27   4 710   1]\n",
      " [  0   0   1   1   0  16   3 304   8 667]] \n",
      "\n",
      "Classification Report:\n",
      "               precision    recall  f1-score   support\n",
      "\n",
      "           0       0.81      0.59      0.68      1000\n",
      "           1       0.64      0.94      0.76      1000\n",
      "           2       0.59      0.32      0.42      1000\n",
      "           3       0.44      0.55      0.49      1000\n",
      "           4       0.38      0.78      0.51      1000\n",
      "           5       0.93      0.28      0.43      1000\n",
      "           6       0.32      0.04      0.07      1000\n",
      "           7       0.51      0.99      0.67      1000\n",
      "           8       0.83      0.71      0.77      1000\n",
      "           9       0.91      0.67      0.77      1000\n",
      "\n",
      "    accuracy                           0.59     10000\n",
      "   macro avg       0.64      0.59      0.56     10000\n",
      "weighted avg       0.64      0.59      0.56     10000\n",
      "\n"
     ]
    }
   ],
   "source": [
    "fit_predict(\"Gaussian Naive Bayes\", gaussianNB)"
   ]
  },
  {
   "cell_type": "code",
   "execution_count": 69,
   "id": "e0d5bd15",
   "metadata": {},
   "outputs": [
    {
     "name": "stdout",
     "output_type": "stream",
     "text": [
      "Gaussian Naive Bayes Accuracy with PCA: 75.87% \n",
      "\n",
      "Gaussian Naive Bayes Matrix with PCA:\n",
      " [[743   0  18  62   6   4  81   0  86   0]\n",
      " [  6 891  17  49   3   3  12   0  19   0]\n",
      " [ 17   0 618   7 121   5 164   0  68   0]\n",
      " [ 52   5  13 779  31   7  68   0  45   0]\n",
      " [  5   0 123  34 651   1 139   0  47   0]\n",
      " [  4   0   0   1   0 748  35 159  38  15]\n",
      " [163   0 106  36  77   5 518   1  94   0]\n",
      " [  1   0   0   0   0  48   2 875   1  73]\n",
      " [ 15   0   8   8   6  19  42  31 870   1]\n",
      " [  0   0   0   0   0  23   7  58  18 894]] \n",
      "\n",
      "Classification Report:\n",
      "               precision    recall  f1-score   support\n",
      "\n",
      "           0       0.74      0.74      0.74      1000\n",
      "           1       0.99      0.89      0.94      1000\n",
      "           2       0.68      0.62      0.65      1000\n",
      "           3       0.80      0.78      0.79      1000\n",
      "           4       0.73      0.65      0.69      1000\n",
      "           5       0.87      0.75      0.80      1000\n",
      "           6       0.49      0.52      0.50      1000\n",
      "           7       0.78      0.88      0.82      1000\n",
      "           8       0.68      0.87      0.76      1000\n",
      "           9       0.91      0.89      0.90      1000\n",
      "\n",
      "    accuracy                           0.76     10000\n",
      "   macro avg       0.77      0.76      0.76     10000\n",
      "weighted avg       0.77      0.76      0.76     10000\n",
      "\n"
     ]
    }
   ],
   "source": [
    "fit_predict(\"Gaussian Naive Bayes\", gaussianNB, True)"
   ]
  },
  {
   "cell_type": "markdown",
   "id": "148a73b4",
   "metadata": {},
   "source": [
    "#### We can see much more better score with PCA"
   ]
  },
  {
   "cell_type": "code",
   "execution_count": 70,
   "id": "646ca879",
   "metadata": {},
   "outputs": [
    {
     "name": "stdout",
     "output_type": "stream",
     "text": [
      "Mean Accuracy: 76.97%\n",
      "Standard deviation: 0.54%\n"
     ]
    }
   ],
   "source": [
    "scores = cross_val_score(gaussianNB, compressed_train_images, train_labels, cv=kf)\n",
    "display_scores(scores)"
   ]
  },
  {
   "cell_type": "markdown",
   "id": "17331339",
   "metadata": {},
   "source": [
    "## Decision Tree"
   ]
  },
  {
   "cell_type": "code",
   "execution_count": 71,
   "id": "599b5052",
   "metadata": {},
   "outputs": [],
   "source": [
    "from sklearn.tree import DecisionTreeClassifier\n",
    "\n",
    "decisionTreeClassifier = DecisionTreeClassifier()"
   ]
  },
  {
   "cell_type": "code",
   "execution_count": 72,
   "id": "38823331",
   "metadata": {},
   "outputs": [
    {
     "name": "stdout",
     "output_type": "stream",
     "text": [
      "Decision Tree Accuracy: 78.53% \n",
      "\n",
      "Decision Tree Matrix:\n",
      " [[732   4  30  44  10   2 164   1  11   2]\n",
      " [  8 948   5  14  11   0  10   0   3   1]\n",
      " [ 19   2 641  21 160   1 140   1  11   4]\n",
      " [ 56  28  17 777  61   0  49   0  12   0]\n",
      " [ 11   4 178  46 637   0 113   0  10   1]\n",
      " [  1   2   1   1   0 877   2  57  20  39]\n",
      " [148  10 128  41 108   2 541   1  19   2]\n",
      " [  0   0   0   0   0  45   0 883   7  65]\n",
      " [ 11   6  14   3  12  12  22   8 906   6]\n",
      " [  1   0   0   0   0  24   0  60   4 911]] \n",
      "\n",
      "Classification Report:\n",
      "               precision    recall  f1-score   support\n",
      "\n",
      "           0       0.74      0.73      0.74      1000\n",
      "           1       0.94      0.95      0.95      1000\n",
      "           2       0.63      0.64      0.64      1000\n",
      "           3       0.82      0.78      0.80      1000\n",
      "           4       0.64      0.64      0.64      1000\n",
      "           5       0.91      0.88      0.89      1000\n",
      "           6       0.52      0.54      0.53      1000\n",
      "           7       0.87      0.88      0.88      1000\n",
      "           8       0.90      0.91      0.90      1000\n",
      "           9       0.88      0.91      0.90      1000\n",
      "\n",
      "    accuracy                           0.79     10000\n",
      "   macro avg       0.79      0.79      0.79     10000\n",
      "weighted avg       0.79      0.79      0.79     10000\n",
      "\n"
     ]
    }
   ],
   "source": [
    "fit_predict(\"Decision Tree\", decisionTreeClassifier)"
   ]
  },
  {
   "cell_type": "code",
   "execution_count": 73,
   "id": "b23f793c",
   "metadata": {},
   "outputs": [
    {
     "name": "stdout",
     "output_type": "stream",
     "text": [
      "Decision Tree Accuracy with PCA: 76.09% \n",
      "\n",
      "Decision Tree Matrix with PCA:\n",
      " [[695  14  40  53  19   5 160   0  14   0]\n",
      " [ 11 931   6  32   9   0   8   0   3   0]\n",
      " [ 29   8 644  19 136   4 145   0  14   1]\n",
      " [ 50  43  24 772  54   4  42   0  11   0]\n",
      " [ 10   5 175  42 634   2 117   0  14   1]\n",
      " [  4   1   1   4   2 819   1  97  15  56]\n",
      " [158   9 118  46 126   5 512   1  24   1]\n",
      " [  1   0   0   0   0  76   1 834   6  82]\n",
      " [  8   1  24  10  14  24  19   7 889   4]\n",
      " [  0   0   2   1   1  39   1  76   1 879]] \n",
      "\n",
      "Classification Report:\n",
      "               precision    recall  f1-score   support\n",
      "\n",
      "           0       0.72      0.69      0.71      1000\n",
      "           1       0.92      0.93      0.93      1000\n",
      "           2       0.62      0.64      0.63      1000\n",
      "           3       0.79      0.77      0.78      1000\n",
      "           4       0.64      0.63      0.64      1000\n",
      "           5       0.84      0.82      0.83      1000\n",
      "           6       0.51      0.51      0.51      1000\n",
      "           7       0.82      0.83      0.83      1000\n",
      "           8       0.90      0.89      0.89      1000\n",
      "           9       0.86      0.88      0.87      1000\n",
      "\n",
      "    accuracy                           0.76     10000\n",
      "   macro avg       0.76      0.76      0.76     10000\n",
      "weighted avg       0.76      0.76      0.76     10000\n",
      "\n"
     ]
    }
   ],
   "source": [
    "fit_predict(\"Decision Tree\", decisionTreeClassifier, True)"
   ]
  },
  {
   "cell_type": "code",
   "execution_count": 74,
   "id": "a54a46cb",
   "metadata": {},
   "outputs": [
    {
     "name": "stdout",
     "output_type": "stream",
     "text": [
      "Mean Accuracy: 76.41%\n",
      "Standard deviation: 0.78%\n"
     ]
    }
   ],
   "source": [
    "scores = cross_val_score(decisionTreeClassifier, compressed_train_images, train_labels, cv=kf)\n",
    "display_scores(scores)"
   ]
  },
  {
   "cell_type": "markdown",
   "id": "1435d494",
   "metadata": {},
   "source": [
    "## SVC"
   ]
  },
  {
   "cell_type": "code",
   "execution_count": 75,
   "id": "b57edb12",
   "metadata": {},
   "outputs": [],
   "source": [
    "from sklearn.svm import SVC\n",
    "\n",
    "svm = SVC()"
   ]
  },
  {
   "cell_type": "code",
   "execution_count": 76,
   "id": "b184407a",
   "metadata": {},
   "outputs": [
    {
     "name": "stdout",
     "output_type": "stream",
     "text": [
      "SVC Accuracy: 88.28% \n",
      "\n",
      "SVC Matrix:\n",
      " [[857   0  16  28   3   2  85   0   9   0]\n",
      " [  4 962   2  25   3   0   4   0   0   0]\n",
      " [ 11   2 816  16  88   0  65   0   2   0]\n",
      " [ 27   3  11 890  33   0  32   0   4   0]\n",
      " [  1   1  87  32 815   0  61   0   3   0]\n",
      " [  0   0   0   1   0 951   0  33   1  14]\n",
      " [135   1 104  27  68   0 654   0  11   0]\n",
      " [  0   0   0   0   0  21   0 955   0  24]\n",
      " [  3   1   1   5   2   2   4   5 977   0]\n",
      " [  0   0   0   0   0  11   1  37   0 951]] \n",
      "\n",
      "Classification Report:\n",
      "               precision    recall  f1-score   support\n",
      "\n",
      "           0       0.83      0.86      0.84      1000\n",
      "           1       0.99      0.96      0.98      1000\n",
      "           2       0.79      0.82      0.80      1000\n",
      "           3       0.87      0.89      0.88      1000\n",
      "           4       0.81      0.81      0.81      1000\n",
      "           5       0.96      0.95      0.96      1000\n",
      "           6       0.72      0.65      0.69      1000\n",
      "           7       0.93      0.95      0.94      1000\n",
      "           8       0.97      0.98      0.97      1000\n",
      "           9       0.96      0.95      0.96      1000\n",
      "\n",
      "    accuracy                           0.88     10000\n",
      "   macro avg       0.88      0.88      0.88     10000\n",
      "weighted avg       0.88      0.88      0.88     10000\n",
      "\n"
     ]
    }
   ],
   "source": [
    "fit_predict(\"SVC\", svm)"
   ]
  },
  {
   "cell_type": "code",
   "execution_count": 77,
   "id": "2e74deae",
   "metadata": {},
   "outputs": [
    {
     "name": "stdout",
     "output_type": "stream",
     "text": [
      "SVC Accuracy with PCA: 88.44% \n",
      "\n",
      "SVC Matrix with PCA:\n",
      " [[860   0  10  27   4   2  91   0   6   0]\n",
      " [  4 963   0  25   3   0   5   0   0   0]\n",
      " [ 12   1 804  14  96   0  72   0   1   0]\n",
      " [ 22   3  13 895  32   0  31   0   4   0]\n",
      " [  0   0  89  31 816   0  63   0   1   0]\n",
      " [  0   0   0   1   0 951   0  37   1  10]\n",
      " [132   1  94  28  66   0 666   0  13   0]\n",
      " [  0   0   0   0   0  16   0 960   0  24]\n",
      " [  3   0   1   7   3   3   3   5 975   0]\n",
      " [  0   0   0   0   0   8   1  37   0 954]] \n",
      "\n",
      "Classification Report:\n",
      "               precision    recall  f1-score   support\n",
      "\n",
      "           0       0.83      0.86      0.85      1000\n",
      "           1       0.99      0.96      0.98      1000\n",
      "           2       0.80      0.80      0.80      1000\n",
      "           3       0.87      0.90      0.88      1000\n",
      "           4       0.80      0.82      0.81      1000\n",
      "           5       0.97      0.95      0.96      1000\n",
      "           6       0.71      0.67      0.69      1000\n",
      "           7       0.92      0.96      0.94      1000\n",
      "           8       0.97      0.97      0.97      1000\n",
      "           9       0.97      0.95      0.96      1000\n",
      "\n",
      "    accuracy                           0.88     10000\n",
      "   macro avg       0.88      0.88      0.88     10000\n",
      "weighted avg       0.88      0.88      0.88     10000\n",
      "\n"
     ]
    }
   ],
   "source": [
    "fit_predict(\"SVC\", svm, True)"
   ]
  },
  {
   "cell_type": "code",
   "execution_count": 78,
   "id": "f2dc5a63",
   "metadata": {},
   "outputs": [
    {
     "name": "stdout",
     "output_type": "stream",
     "text": [
      "Mean Accuracy: 89.20%\n",
      "Standard deviation: 0.39%\n"
     ]
    }
   ],
   "source": [
    "scores = cross_val_score(svm, compressed_train_images, train_labels, cv=kf)\n",
    "display_scores(scores)"
   ]
  },
  {
   "cell_type": "markdown",
   "id": "b419ff17",
   "metadata": {},
   "source": [
    "# Ensemble Learning"
   ]
  },
  {
   "cell_type": "markdown",
   "id": "7e0606b6",
   "metadata": {},
   "source": [
    "## Voting Classifier with: KNN , Logistic Regression and SVC"
   ]
  },
  {
   "cell_type": "code",
   "execution_count": 79,
   "id": "e222a7b2",
   "metadata": {},
   "outputs": [],
   "source": [
    "from sklearn.ensemble import VotingClassifier"
   ]
  },
  {
   "cell_type": "markdown",
   "id": "2d4f78c6",
   "metadata": {},
   "source": [
    "### voting hard"
   ]
  },
  {
   "cell_type": "code",
   "execution_count": 80,
   "id": "9658fe86",
   "metadata": {},
   "outputs": [],
   "source": [
    "voting_hard = VotingClassifier(estimators=[('logRegression', logisticRegression), ('knn', knn), ('svc', svm)], voting='hard')"
   ]
  },
  {
   "cell_type": "code",
   "execution_count": 81,
   "id": "6cb01dc4",
   "metadata": {},
   "outputs": [
    {
     "name": "stdout",
     "output_type": "stream",
     "text": [
      "Voting Hard Accuracy with PCA: 87.97% \n",
      "\n",
      "Voting Hard Matrix with PCA:\n",
      " [[868   0  10  24   3   2  85   0   8   0]\n",
      " [  5 962   2  25   3   0   3   0   0   0]\n",
      " [ 18   4 813  11  97   0  55   0   2   0]\n",
      " [ 28   3  16 895  28   0  27   0   3   0]\n",
      " [  0   1  97  31 812   0  56   0   3   0]\n",
      " [  0   0   0   1   0 944   0  38   2  15]\n",
      " [155   2 109  24  77   0 621   0  12   0]\n",
      " [  0   0   0   0   0  16   0 957   0  27]\n",
      " [  4   0   0   7   3   3   6   6 971   0]\n",
      " [  0   0   0   0   0  11   0  34   1 954]] \n",
      "\n",
      "Classification Report:\n",
      "               precision    recall  f1-score   support\n",
      "\n",
      "           0       0.81      0.87      0.84      1000\n",
      "           1       0.99      0.96      0.98      1000\n",
      "           2       0.78      0.81      0.79      1000\n",
      "           3       0.88      0.90      0.89      1000\n",
      "           4       0.79      0.81      0.80      1000\n",
      "           5       0.97      0.94      0.96      1000\n",
      "           6       0.73      0.62      0.67      1000\n",
      "           7       0.92      0.96      0.94      1000\n",
      "           8       0.97      0.97      0.97      1000\n",
      "           9       0.96      0.95      0.96      1000\n",
      "\n",
      "    accuracy                           0.88     10000\n",
      "   macro avg       0.88      0.88      0.88     10000\n",
      "weighted avg       0.88      0.88      0.88     10000\n",
      "\n"
     ]
    }
   ],
   "source": [
    "fit_predict(\"Voting Hard\", voting_hard, True)"
   ]
  },
  {
   "cell_type": "markdown",
   "id": "db05c3b2",
   "metadata": {},
   "source": [
    "### voting soft"
   ]
  },
  {
   "cell_type": "code",
   "execution_count": 82,
   "id": "abc6c96b",
   "metadata": {},
   "outputs": [],
   "source": [
    "svm = SVC(probability=True)\n",
    "voting_soft = VotingClassifier(estimators=[('logRegression', logisticRegression), ('knn', knn), ('svc', svm)], voting='soft')"
   ]
  },
  {
   "cell_type": "code",
   "execution_count": 83,
   "id": "4555a48f",
   "metadata": {},
   "outputs": [
    {
     "name": "stdout",
     "output_type": "stream",
     "text": [
      "Voting Soft Accuracy with PCA: 88.27% \n",
      "\n",
      "Voting Soft Matrix with PCA:\n",
      " [[860   0  11  20   4   1  92   1  11   0]\n",
      " [  4 966   3  20   3   0   3   0   1   0]\n",
      " [ 17   0 800   9 100   0  68   1   5   0]\n",
      " [ 17   4  10 903  27   1  34   0   4   0]\n",
      " [  1   0  82  32 812   0  69   0   4   0]\n",
      " [  0   0   0   0   0 946   0  37   1  16]\n",
      " [140   1  92  26  79   0 645   0  17   0]\n",
      " [  0   0   0   0   0  14   0 959   0  27]\n",
      " [  0   1   1   5   2   2  10   4 975   0]\n",
      " [  0   0   0   0   0   6   0  32   1 961]] \n",
      "\n",
      "Classification Report:\n",
      "               precision    recall  f1-score   support\n",
      "\n",
      "           0       0.83      0.86      0.84      1000\n",
      "           1       0.99      0.97      0.98      1000\n",
      "           2       0.80      0.80      0.80      1000\n",
      "           3       0.89      0.90      0.90      1000\n",
      "           4       0.79      0.81      0.80      1000\n",
      "           5       0.98      0.95      0.96      1000\n",
      "           6       0.70      0.65      0.67      1000\n",
      "           7       0.93      0.96      0.94      1000\n",
      "           8       0.96      0.97      0.97      1000\n",
      "           9       0.96      0.96      0.96      1000\n",
      "\n",
      "    accuracy                           0.88     10000\n",
      "   macro avg       0.88      0.88      0.88     10000\n",
      "weighted avg       0.88      0.88      0.88     10000\n",
      "\n"
     ]
    }
   ],
   "source": [
    "fit_predict(\"Voting Soft\", voting_soft, True)"
   ]
  },
  {
   "cell_type": "markdown",
   "id": "bc10fbdd",
   "metadata": {},
   "source": [
    "## Random Forest"
   ]
  },
  {
   "cell_type": "code",
   "execution_count": 84,
   "id": "76258954",
   "metadata": {},
   "outputs": [],
   "source": [
    "from sklearn.ensemble import RandomForestClassifier\n",
    "\n",
    "randomForest = RandomForestClassifier(n_estimators=500, max_leaf_nodes=16, n_jobs=-1)"
   ]
  },
  {
   "cell_type": "code",
   "execution_count": 85,
   "id": "858c0d76",
   "metadata": {},
   "outputs": [
    {
     "name": "stdout",
     "output_type": "stream",
     "text": [
      "Random Forest Accuracy: 75.34% \n",
      "\n",
      "Random Forest Matrix:\n",
      " [[777   5  52 124   9   1   6   0  26   0]\n",
      " [  1 848  21 124   3   0   0   0   3   0]\n",
      " [ 13   1 685  11 274   0   2   0  14   0]\n",
      " [ 31   6  41 874  40   0   2   0   6   0]\n",
      " [  1   2 155  89 744   3   2   0   4   0]\n",
      " [  0   0   0   2   0 837   0  90   8  63]\n",
      " [215   4 213 123 366   1  36   0  42   0]\n",
      " [  0   0   0   0   0  15   0 888   1  96]\n",
      " [  3   2  38  27   4   8   0   7 911   0]\n",
      " [  0   0   0   0   0   7   0  55   4 934]] \n",
      "\n",
      "Classification Report:\n",
      "               precision    recall  f1-score   support\n",
      "\n",
      "           0       0.75      0.78      0.76      1000\n",
      "           1       0.98      0.85      0.91      1000\n",
      "           2       0.57      0.69      0.62      1000\n",
      "           3       0.64      0.87      0.74      1000\n",
      "           4       0.52      0.74      0.61      1000\n",
      "           5       0.96      0.84      0.89      1000\n",
      "           6       0.75      0.04      0.07      1000\n",
      "           7       0.85      0.89      0.87      1000\n",
      "           8       0.89      0.91      0.90      1000\n",
      "           9       0.85      0.93      0.89      1000\n",
      "\n",
      "    accuracy                           0.75     10000\n",
      "   macro avg       0.78      0.75      0.73     10000\n",
      "weighted avg       0.78      0.75      0.73     10000\n",
      "\n"
     ]
    }
   ],
   "source": [
    "fit_predict(\"Random Forest\", randomForest)"
   ]
  },
  {
   "cell_type": "code",
   "execution_count": 86,
   "id": "b03b0852",
   "metadata": {},
   "outputs": [
    {
     "name": "stdout",
     "output_type": "stream",
     "text": [
      "Random Forest Accuracy with PCA: 74.35% \n",
      "\n",
      "Random Forest Matrix with PCA:\n",
      " [[794   4  17 100  12  29  16   0  28   0]\n",
      " [ 14 925   7  46   4   2   0   0   2   0]\n",
      " [ 46   2 643   9 180   9  65   0  46   0]\n",
      " [ 61  12   4 807  55  16  30   1  11   3]\n",
      " [  5   4 182  36 689  10  43   0  31   0]\n",
      " [  2   0   0   1  10 786   2 104  23  72]\n",
      " [275   4 165  55 195  42 202   0  61   1]\n",
      " [  2   0   0   0   2 118   0 796   7  75]\n",
      " [  9   3   6   7  10  31  11   9 912   2]\n",
      " [  0   0   1   0   1  62   1  51   3 881]] \n",
      "\n",
      "Classification Report:\n",
      "               precision    recall  f1-score   support\n",
      "\n",
      "           0       0.66      0.79      0.72      1000\n",
      "           1       0.97      0.93      0.95      1000\n",
      "           2       0.63      0.64      0.64      1000\n",
      "           3       0.76      0.81      0.78      1000\n",
      "           4       0.59      0.69      0.64      1000\n",
      "           5       0.71      0.79      0.75      1000\n",
      "           6       0.55      0.20      0.29      1000\n",
      "           7       0.83      0.80      0.81      1000\n",
      "           8       0.81      0.91      0.86      1000\n",
      "           9       0.85      0.88      0.87      1000\n",
      "\n",
      "    accuracy                           0.74     10000\n",
      "   macro avg       0.74      0.74      0.73     10000\n",
      "weighted avg       0.74      0.74      0.73     10000\n",
      "\n"
     ]
    }
   ],
   "source": [
    "fit_predict(\"Random Forest\", randomForest, True)"
   ]
  },
  {
   "cell_type": "markdown",
   "id": "385c3c90",
   "metadata": {},
   "source": [
    "#### Lets plot the pixels importance with RandomForest feature_importances"
   ]
  },
  {
   "cell_type": "code",
   "execution_count": 106,
   "id": "93ea438e",
   "metadata": {},
   "outputs": [
    {
     "data": {
      "image/png": "[encoded data removed]",
      "text/plain": [
       "<Figure size 720x576 with 2 Axes>"
      ]
     },
     "metadata": {
      "needs_background": "light"
     },
     "output_type": "display_data"
    }
   ],
   "source": [
    "model = RandomForestClassifier(n_estimators=500, max_leaf_nodes=16, n_jobs=-1)\n",
    "model.fit(train_images, train_labels)\n",
    "\n",
    "#shape of the dataset: (60000,728)\n",
    "importances = model.feature_importances_\n",
    "pixels = np.reshape(importances, (28, 28)) \n",
    "\n",
    "plt.figure(figsize=(10, 8))\n",
    "plot = sns.heatmap(pixels, cmap=plt.cm.hot)\n",
    "plt.xticks([], [])\n",
    "plot.set_yticks([])\n",
    "plot.set_yticks([], minor=True)\n",
    "colorbar = plot.collections[0].colorbar\n",
    "colorbar.set_ticks([0, max(importances)])\n",
    "colorbar.set_ticklabels(['Less important', 'More important'])\n",
    "plt.title('Pixels Importance', size=20)\n",
    "plt.show()"
   ]
  },
  {
   "cell_type": "markdown",
   "id": "94d0f803",
   "metadata": {},
   "source": [
    "## AdaBoost"
   ]
  },
  {
   "cell_type": "code",
   "execution_count": 100,
   "id": "6f7538e3",
   "metadata": {},
   "outputs": [],
   "source": [
    "from sklearn.ensemble import AdaBoostClassifier\n",
    "\n",
    "adaBoost = AdaBoostClassifier(DecisionTreeClassifier(), n_estimators=200, algorithm=\"SAMME.R\")"
   ]
  },
  {
   "cell_type": "code",
   "execution_count": 101,
   "id": "d1c40cfc",
   "metadata": {},
   "outputs": [
    {
     "name": "stdout",
     "output_type": "stream",
     "text": [
      "AdaBoost Accuracy: 79.15% \n",
      "\n",
      "AdaBoost Matrix:\n",
      " [[741   5  31  40   7   3 163   0   9   1]\n",
      " [  4 950   3  24   9   0   6   0   3   1]\n",
      " [ 23   0 660  21 155   1 128   0  10   2]\n",
      " [ 49  26  21 776  59   1  53   0  14   1]\n",
      " [  8   3 172  50 630   1 128   0   6   2]\n",
      " [  2   4   2   1   0 875   2  58  24  32]\n",
      " [135   6 129  34 104   4 563   1  22   2]\n",
      " [  1   0   1   0   0  46   0 883   4  65]\n",
      " [  7   2  14   5  11  12  21   5 919   4]\n",
      " [  1   0   0   0   0  19   1  57   4 918]] \n",
      "\n",
      "Classification Report:\n",
      "               precision    recall  f1-score   support\n",
      "\n",
      "           0       0.76      0.74      0.75      1000\n",
      "           1       0.95      0.95      0.95      1000\n",
      "           2       0.64      0.66      0.65      1000\n",
      "           3       0.82      0.78      0.80      1000\n",
      "           4       0.65      0.63      0.64      1000\n",
      "           5       0.91      0.88      0.89      1000\n",
      "           6       0.53      0.56      0.55      1000\n",
      "           7       0.88      0.88      0.88      1000\n",
      "           8       0.91      0.92      0.91      1000\n",
      "           9       0.89      0.92      0.91      1000\n",
      "\n",
      "    accuracy                           0.79     10000\n",
      "   macro avg       0.79      0.79      0.79     10000\n",
      "weighted avg       0.79      0.79      0.79     10000\n",
      "\n"
     ]
    }
   ],
   "source": [
    "fit_predict(\"AdaBoost\", adaBoost)"
   ]
  },
  {
   "cell_type": "code",
   "execution_count": 102,
   "id": "f37b6819",
   "metadata": {},
   "outputs": [
    {
     "name": "stdout",
     "output_type": "stream",
     "text": [
      "AdaBoost Accuracy with PCA: 76.26% \n",
      "\n",
      "AdaBoost Matrix with PCA:\n",
      " [[700   8  31  55  14   6 169   0  17   0]\n",
      " [  7 936   6  31   9   0  10   0   1   0]\n",
      " [ 35   5 652  24 132   2 135   0  14   1]\n",
      " [ 47  42  26 769  59   3  45   0   9   0]\n",
      " [  7   3 175  43 638   0 123   1   9   1]\n",
      " [  3   0   1   5   2 827   2  92  16  52]\n",
      " [152   5 124  54 123   4 513   0  23   2]\n",
      " [  2   0   0   0   0  76   0 831   8  83]\n",
      " [  9   2  29   8  11  18  24  10 884   5]\n",
      " [  0   0   1   1   1  39   1  78   3 876]] \n",
      "\n",
      "Classification Report:\n",
      "               precision    recall  f1-score   support\n",
      "\n",
      "           0       0.73      0.70      0.71      1000\n",
      "           1       0.94      0.94      0.94      1000\n",
      "           2       0.62      0.65      0.64      1000\n",
      "           3       0.78      0.77      0.77      1000\n",
      "           4       0.65      0.64      0.64      1000\n",
      "           5       0.85      0.83      0.84      1000\n",
      "           6       0.50      0.51      0.51      1000\n",
      "           7       0.82      0.83      0.83      1000\n",
      "           8       0.90      0.88      0.89      1000\n",
      "           9       0.86      0.88      0.87      1000\n",
      "\n",
      "    accuracy                           0.76     10000\n",
      "   macro avg       0.76      0.76      0.76     10000\n",
      "weighted avg       0.76      0.76      0.76     10000\n",
      "\n"
     ]
    }
   ],
   "source": [
    "fit_predict(\"AdaBoost\", adaBoost, True)"
   ]
  }
 ],
 "metadata": {
  "kernelspec": {
   "display_name": "Python 3 (ipykernel)",
   "language": "python",
   "name": "python3"
  },
  "language_info": {
   "codemirror_mode": {
    "name": "ipython",
    "version": 3
   },
   "file_extension": ".py",
   "mimetype": "text/x-python",
   "name": "python",
   "nbconvert_exporter": "python",
   "pygments_lexer": "ipython3",
   "version": "3.7.11"
  }
 },
 "nbformat": 4,
 "nbformat_minor": 5
}
