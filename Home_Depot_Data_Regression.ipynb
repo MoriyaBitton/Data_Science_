{
  "nbformat": 4,
  "nbformat_minor": 0,
  "metadata": {
    "colab": {
      "name": "Home_Depot_Data_Regression.ipynb",
      "provenance": [],
      "collapsed_sections": [],
      "authorship_tag": "ABX9TyOA+Kpw/3SGKgRbqLEXqUIH",
      "include_colab_link": true
    },
    "kernelspec": {
      "name": "python3",
      "display_name": "Python 3"
    }
  },
  "cells": [
    {
      "cell_type": "markdown",
      "metadata": {
        "id": "view-in-github",
        "colab_type": "text"
      },
      "source": [
        "<a href=\"https://colab.research.google.com/github/MoriyaBitton/Data_Science_Final_Project/blob/main/Home_Depot_Data_Regression.ipynb\" target=\"_parent\"><img src=\"https://colab.research.google.com/assets/colab-badge.svg\" alt=\"Open In Colab\"/></a>"
      ]
    },
    {
      "cell_type": "code",
      "metadata": {
        "colab": {
          "base_uri": "https://localhost:8080/"
        },
        "id": "GosSgY9vhSG1",
        "outputId": "a545c71e-f919-43ee-9afd-bd89104d39c7"
      },
      "source": [
        "from google.colab import drive\r\n",
        "drive.mount('/content/drive', force_remount=True)"
      ],
      "execution_count": 1,
      "outputs": [
        {
          "output_type": "stream",
          "text": [
            "Mounted at /content/drive\n"
          ],
          "name": "stdout"
        }
      ]
    },
    {
      "cell_type": "code",
      "metadata": {
        "id": "eLfjQB0Si4FB"
      },
      "source": [
        "import os\r\n",
        "import pandas as pd\r\n",
        "import numpy as np\r\n",
        "from sklearn.model_selection import train_test_split\r\n",
        "from sklearn.preprocessing import LabelEncoder\r\n",
        "from matplotlib import pyplot as plt\r\n",
        "from sklearn.linear_model import LinearRegression\r\n",
        "from sklearn.metrics import mean_squared_error\r\n",
        "from sklearn.metrics import mean_absolute_error\r\n",
        "from keras.utils import to_categorical\r\n",
        "import seaborn as sns\r\n",
        "from xgboost import XGBRegressor\r\n",
        "from sklearn.ensemble import RandomForestRegressor\r\n",
        "from sklearn.neighbors import KNeighborsRegressor\r\n",
        "from sklearn.ensemble import GradientBoostingRegressor"
      ],
      "execution_count": 4,
      "outputs": []
    },
    {
      "cell_type": "code",
      "metadata": {
        "id": "RNYVN1uyjD-v"
      },
      "source": [
        "path = '/content/drive/My Drive/Home Depot Data/'"
      ],
      "execution_count": 5,
      "outputs": []
    },
    {
      "cell_type": "markdown",
      "metadata": {
        "id": "bfsDrHD0jIIm"
      },
      "source": [
        "**About The Data:**\r\n",
        "\r\n",
        "This data set contains a number of products and real customer search terms from Home Depot's website.In this Assignment we need to predict a relevance score for the provided combinations of search terms and products (first, character level and than word/character-combination level). To create the ground truth labels, Home Depot has crowdsourced the search/product pairs to multiple human raters.\r\n",
        "\r\n",
        "The relevance (label) is a number between 1 (not relevant) to 3 (highly relevant).\r\n",
        "\r\n",
        "**Main data:**\r\n",
        "\r\n",
        "train.csv - the training set, contains products, searches, and relevance scores.columns: id, product_uid, product_title, search_term, relevance\r\n",
        "\r\n",
        "test.csv - the test set, contains products and searches. You must predict the relevance for these pairs.columns: id, product_uid, product_title, search_term.\r\n",
        "\r\n",
        "product_descriptions.csv - contains a text description of each product. columns: product_uid, product_description\r\n"
      ]
    },
    {
      "cell_type": "code",
      "metadata": {
        "id": "jxZtOegrjE63"
      },
      "source": [
        "def read_data():\r\n",
        "  train = pd.read_csv(path + 'train.csv', encoding = \"ISO-8859-1\")\r\n",
        "  test = pd.read_csv(path + 'test.csv', encoding = \"ISO-8859-1\")\r\n",
        "  prod_des = pd.read_csv(path +'product_descriptions.csv', encoding = \"ISO-8859-1\")\r\n",
        "  train = train.merge(prod_des, how='left', on='product_uid')\r\n",
        "  test = test.merge(prod_des, how='left', on='product_uid')\r\n",
        "  return train,test,prod_des"
      ],
      "execution_count": 6,
      "outputs": []
    },
    {
      "cell_type": "markdown",
      "metadata": {
        "id": "xglT0vicjWvU"
      },
      "source": [
        "After a deep look in the test file, we saw that there is no lable column in the test (no relevant score), we fill this column with a solution file, that contains the relevance field for the test."
      ]
    },
    {
      "cell_type": "code",
      "metadata": {
        "id": "y6B_fBNljOaI"
      },
      "source": [
        "def add_label(test, prod_des):\r\n",
        "  solution = pd.read_csv(path + 'solution.csv', encoding = \"ISO-8859-1\")\r\n",
        "  solution = solution.merge(test, how='left', on = 'id')\r\n",
        "  solution.drop(solution[solution.relevance < 0].index, inplace=True)\r\n",
        "  return solution"
      ],
      "execution_count": 7,
      "outputs": []
    },
    {
      "cell_type": "code",
      "metadata": {
        "id": "pIwWqgRMjZy8"
      },
      "source": [
        "train, test, prod_des = read_data()\r\n",
        "test = add_label(test, prod_des)"
      ],
      "execution_count": 8,
      "outputs": []
    },
    {
      "cell_type": "markdown",
      "metadata": {
        "id": "s54I9sTDjfI3"
      },
      "source": [
        "ASCII characters are ultimately interpreted by the computer as hexadecimal. In consequence, to a computer, ‘A’ is not the same as ‘a’. \r\n",
        "\r\n",
        "Therefore, we’ll want to change all characters to lowercase. Since we’re going to be splitting the sentences up into individual words based off of white spaces, a word with a period right after it is not equivalent to one without a period following it (happy. != happy). In addition, contractions are going to be interpreted differently than the original which will have repercussions for the model (I’m != I am). Thus, we replace all occurrences using the proceeding function\r\n"
      ]
    },
    {
      "cell_type": "code",
      "metadata": {
        "id": "Y9rPCQDxjb3U"
      },
      "source": [
        "replace_list = {r\"i'm\": 'i am',\r\n",
        "                r\"'re\": ' are',\r\n",
        "                r\"let’s\": 'let us',\r\n",
        "                r\"'s\":  ' is',\r\n",
        "                r\"'ve\": ' have',\r\n",
        "                r\"can't\": 'can not',\r\n",
        "                r\"cannot\": 'can not',\r\n",
        "                r\"shan’t\": 'shall not',\r\n",
        "                r\"n't\": ' not',\r\n",
        "                r\"'d\": ' would',\r\n",
        "                r\"'ll\": ' will',\r\n",
        "                r\"'scuse\": 'excuse',\r\n",
        "                ',': ' ,',\r\n",
        "                '.': ' .',\r\n",
        "                '!': ' !',\r\n",
        "                '?': ' ?',\r\n",
        "                '\\s+': ' '}\r\n",
        "def clean_text(text):\r\n",
        "    text = text.lower() ###\r\n",
        "    for s in replace_list:\r\n",
        "        text = text.replace(s, replace_list[s])\r\n",
        "    text = ' '.join(text.split())\r\n",
        "    return text"
      ],
      "execution_count": 9,
      "outputs": []
    },
    {
      "cell_type": "code",
      "metadata": {
        "id": "hAAsMd56jjTc"
      },
      "source": [
        "train['search_term'] = train['search_term'].apply(lambda p: clean_text(p))\r\n",
        "train['product_description'] = train['product_description'].apply(lambda p: clean_text(p))\r\n",
        "test['search_term'] = test['search_term'].apply(lambda p: clean_text(p))\r\n",
        "test['product_description'] = test['product_description'].apply(lambda p: clean_text(p))"
      ],
      "execution_count": 10,
      "outputs": []
    },
    {
      "cell_type": "markdown",
      "metadata": {
        "id": "N77aMaJzjoVE"
      },
      "source": [
        "We delete all stop words to reduce the number of words"
      ]
    },
    {
      "cell_type": "code",
      "metadata": {
        "id": "cd8uMr25jlN-"
      },
      "source": [
        "stoplist = set('for a of the and to in'.split(' '))"
      ],
      "execution_count": 11,
      "outputs": []
    },
    {
      "cell_type": "code",
      "metadata": {
        "id": "GK2lrvxPjrVv"
      },
      "source": [
        "train['search_term'] = train['search_term'].apply(lambda p: [word for word in p.split(' ') if word not in stoplist])\r\n",
        "train['product_description'] = train['product_description'].apply(lambda p: [word for word in p.split(' ') if word not in stoplist])\r\n",
        "test['search_term'] = test['search_term'].apply(lambda p: [word for word in p.split(' ') if word not in stoplist])\r\n",
        "test['product_description'] = test['product_description'].apply(lambda p: [word for word in p.split(' ') if word not in stoplist])"
      ],
      "execution_count": 12,
      "outputs": []
    },
    {
      "cell_type": "code",
      "metadata": {
        "id": "u8mK37qQjtMY"
      },
      "source": [
        "s = ''\r\n",
        "train['search_term'] = train['search_term'].apply(lambda p: s.join(p))\r\n",
        "train['product_description'] = train['product_description'].apply(lambda p: s.join(p))\r\n",
        "test['search_term'] = test['search_term'].apply(lambda p: s.join(p))\r\n",
        "test['product_description'] = test['product_description'].apply(lambda p: s.join(p))"
      ],
      "execution_count": 13,
      "outputs": []
    },
    {
      "cell_type": "code",
      "metadata": {
        "id": "wmmOVOwojvyb"
      },
      "source": [
        "train['search_term'] = train['search_term'].apply(lambda p: \" \".join(p))\r\n",
        "train['product_description'] = train['product_description'].apply(lambda p: \" \".join(p))\r\n",
        "test['search_term'] = test['search_term'].apply(lambda p: \" \".join(p))\r\n",
        "test['product_description'] = test['product_description'].apply(lambda p: \" \".join(p))"
      ],
      "execution_count": 14,
      "outputs": []
    },
    {
      "cell_type": "code",
      "metadata": {
        "id": "ALMeV7J6jx6C"
      },
      "source": [
        "def count_words(strs):\r\n",
        "  str_search, str_words = strs\r\n",
        "  return sum(int(str_search.find(word) >= 0) for word in str_words.split())"
      ],
      "execution_count": 15,
      "outputs": []
    },
    {
      "cell_type": "code",
      "metadata": {
        "id": "Dj_31jDnj3qh"
      },
      "source": [
        "train['ctr_chars_desc'] = train[['search_term','product_description']].apply(count_words, axis = 1)\r\n",
        "test['ctr_chars_desc'] = test[['search_term','product_description']].apply(count_words, axis = 1)\r\n",
        "\r\n",
        "# more to train\r\n",
        "train['ctr_chars_title'] = train[['search_term','product_title']].apply(count_words, axis = 1)\r\n",
        "test['ctr_chars_title'] = test[['search_term','product_title']].apply(count_words, axis = 1)"
      ],
      "execution_count": 16,
      "outputs": []
    },
    {
      "cell_type": "code",
      "metadata": {
        "id": "WbywPHubj6Mt"
      },
      "source": [
        "x_train = train.copy()\r\n",
        "y_train = x_train['relevance']\r\n",
        "x_train = x_train.drop(columns=['id','product_title','search_term','product_description','relevance'])\r\n",
        "\r\n",
        "x_test = test.copy()\r\n",
        "x_test = x_test.drop(columns=['Usage','id','product_title','search_term','product_description','relevance'])\r\n",
        "y_test = test['relevance']"
      ],
      "execution_count": 17,
      "outputs": []
    },
    {
      "cell_type": "markdown",
      "metadata": {
        "id": "FW0iyHQ_j-iI"
      },
      "source": [
        "# Linear Regression"
      ]
    },
    {
      "cell_type": "code",
      "metadata": {
        "colab": {
          "base_uri": "https://localhost:8080/"
        },
        "id": "SAs4bfP-j8cK",
        "outputId": "8312efca-188c-41c2-d853-c41d6cd4a842"
      },
      "source": [
        "lr = LinearRegression()\r\n",
        "lr.fit(x_train, y_train)"
      ],
      "execution_count": 18,
      "outputs": [
        {
          "output_type": "execute_result",
          "data": {
            "text/plain": [
              "LinearRegression(copy_X=True, fit_intercept=True, n_jobs=None, normalize=False)"
            ]
          },
          "metadata": {
            "tags": []
          },
          "execution_count": 18
        }
      ]
    },
    {
      "cell_type": "code",
      "metadata": {
        "id": "lXNzep6UkBFJ"
      },
      "source": [
        "test_preds = lr.predict(x_test)"
      ],
      "execution_count": 19,
      "outputs": []
    },
    {
      "cell_type": "code",
      "metadata": {
        "colab": {
          "base_uri": "https://localhost:8080/"
        },
        "id": "w6jHusAOkDM7",
        "outputId": "a2b02b09-a679-411a-fb0b-45a14a47513e"
      },
      "source": [
        "RMSE = format(mean_squared_error(y_test, test_preds))\r\n",
        "MAE = format(mean_absolute_error(y_test, test_preds))\r\n",
        "MSE = format(np.sqrt(mean_squared_error(y_test, test_preds)))\r\n",
        "\r\n",
        "print('Test RMSE loss: ', RMSE)\r\n",
        "print('Test MAE loss: ', MAE)\r\n",
        "print('Test MSE loss: ', MSE)"
      ],
      "execution_count": 20,
      "outputs": [
        {
          "output_type": "stream",
          "text": [
            "Test RMSE loss:  0.28069022144316425\n",
            "Test MAE loss:  0.43492100358624547\n",
            "Test MSE loss:  0.5298020587381331\n"
          ],
          "name": "stdout"
        }
      ]
    },
    {
      "cell_type": "code",
      "metadata": {
        "colab": {
          "base_uri": "https://localhost:8080/",
          "height": 295
        },
        "id": "FRup4W3hC-D6",
        "outputId": "36b43821-4c8d-4db5-acd7-9d32d32bd7b3"
      },
      "source": [
        "# x-coordinates of left sides of bars  \r\n",
        "left = [1, 2, 3] \r\n",
        "  \r\n",
        "# heights of bars \r\n",
        "height = [0.28069, 0.43492, 0.5298] \r\n",
        "  \r\n",
        "# labels for bars \r\n",
        "tick_label = ['RMSE', 'MAE', 'MSE'] \r\n",
        "  \r\n",
        "# plotting a bar chart \r\n",
        "plt.bar(left, height, tick_label = tick_label, \r\n",
        "        width = 0.6, color = ['red', 'green', 'blue']) \r\n",
        "  \r\n",
        "# naming the x-axis \r\n",
        "plt.xlabel('x - Linear Regression') \r\n",
        "# naming the y-axis \r\n",
        "plt.ylabel('y - Evaluating') \r\n",
        "# plot title \r\n",
        "plt.title('Evaluating a Linear Regression Model') \r\n",
        "  \r\n",
        "# function to show the plot \r\n",
        "plt.show()"
      ],
      "execution_count": 32,
      "outputs": [
        {
          "output_type": "display_data",
          "data": {
            "image/png": "[encoded data removed]",
            "text/plain": [
              "<Figure size 432x288 with 1 Axes>"
            ]
          },
          "metadata": {
            "tags": [],
            "needs_background": "light"
          }
        }
      ]
    },
    {
      "cell_type": "markdown",
      "metadata": {
        "id": "lokcmoGDkIng"
      },
      "source": [
        "# Gradient Boosting Regressor"
      ]
    },
    {
      "cell_type": "code",
      "metadata": {
        "id": "z1bDg5VbkFQs"
      },
      "source": [
        "reg = GradientBoostingRegressor(random_state=0, alpha = 0.9)"
      ],
      "execution_count": 33,
      "outputs": []
    },
    {
      "cell_type": "code",
      "metadata": {
        "colab": {
          "base_uri": "https://localhost:8080/"
        },
        "id": "udgkCHZNkLWX",
        "outputId": "966b0dc4-1eff-4183-fd3b-e9a610cedae3"
      },
      "source": [
        "reg.fit(x_train, y_train)"
      ],
      "execution_count": 34,
      "outputs": [
        {
          "output_type": "execute_result",
          "data": {
            "text/plain": [
              "GradientBoostingRegressor(alpha=0.9, ccp_alpha=0.0, criterion='friedman_mse',\n",
              "                          init=None, learning_rate=0.1, loss='ls', max_depth=3,\n",
              "                          max_features=None, max_leaf_nodes=None,\n",
              "                          min_impurity_decrease=0.0, min_impurity_split=None,\n",
              "                          min_samples_leaf=1, min_samples_split=2,\n",
              "                          min_weight_fraction_leaf=0.0, n_estimators=100,\n",
              "                          n_iter_no_change=None, presort='deprecated',\n",
              "                          random_state=0, subsample=1.0, tol=0.0001,\n",
              "                          validation_fraction=0.1, verbose=0, warm_start=False)"
            ]
          },
          "metadata": {
            "tags": []
          },
          "execution_count": 34
        }
      ]
    },
    {
      "cell_type": "code",
      "metadata": {
        "id": "iovlUtWxkNBN"
      },
      "source": [
        "test_preds = reg.predict(x_test)"
      ],
      "execution_count": 35,
      "outputs": []
    },
    {
      "cell_type": "code",
      "metadata": {
        "colab": {
          "base_uri": "https://localhost:8080/"
        },
        "id": "9B4rhe0akPpN",
        "outputId": "2fa13210-3aee-422b-b005-b9ee0df76166"
      },
      "source": [
        "RMSE_ = format(mean_squared_error(y_test, test_preds))\r\n",
        "MAE_ = format(mean_absolute_error(y_test, test_preds))\r\n",
        "MSE_ = format(np.sqrt(mean_squared_error(y_test, test_preds)))\r\n",
        "\r\n",
        "print('Test RMSE loss: ', RMSE_)\r\n",
        "print('Test MAE loss: ', MAE_)\r\n",
        "print('Test MSE loss: ', MSE_)"
      ],
      "execution_count": 36,
      "outputs": [
        {
          "output_type": "stream",
          "text": [
            "Test RMSE loss:  0.275797811468459\n",
            "Test MAE loss:  0.4343524278789263\n",
            "Test MSE loss:  0.5251645565615211\n"
          ],
          "name": "stdout"
        }
      ]
    },
    {
      "cell_type": "code",
      "metadata": {
        "id": "Jy91g6NC3VXi",
        "colab": {
          "base_uri": "https://localhost:8080/",
          "height": 295
        },
        "outputId": "860f7b1e-5a87-4921-84c8-3e845a0945f0"
      },
      "source": [
        "# x-coordinates of left sides of bars  \r\n",
        "left = [1, 2, 3] \r\n",
        "  \r\n",
        "# heights of bars \r\n",
        "height = [0.27579, 0.43435, 0.52516] \r\n",
        "  \r\n",
        "# labels for bars \r\n",
        "tick_label = ['RMSE', 'MAE', 'MSE'] \r\n",
        "  \r\n",
        "# plotting a bar chart \r\n",
        "plt.bar(left, height, tick_label = tick_label, \r\n",
        "        width = 0.6, color = ['red', 'green', 'blue']) \r\n",
        "  \r\n",
        "# naming the x-axis \r\n",
        "plt.xlabel('x - Gradient Boosting Regressor Model') \r\n",
        "# naming the y-axis \r\n",
        "plt.ylabel('y - Evaluating') \r\n",
        "# plot title \r\n",
        "plt.title('Evaluating a Gradient Boosting Regressor Model') \r\n",
        "  \r\n",
        "# function to show the plot \r\n",
        "plt.show()"
      ],
      "execution_count": 42,
      "outputs": [
        {
          "output_type": "display_data",
          "data": {
            "image/png": "[encoded data removed]",
            "text/plain": [
              "<Figure size 432x288 with 1 Axes>"
            ]
          },
          "metadata": {
            "tags": [],
            "needs_background": "light"
          }
        }
      ]
    },
    {
      "cell_type": "markdown",
      "metadata": {
        "id": "k9gpRPA88-xB"
      },
      "source": [
        "Compare between the two linears Models"
      ]
    },
    {
      "cell_type": "code",
      "metadata": {
        "colab": {
          "base_uri": "https://localhost:8080/",
          "height": 106
        },
        "id": "kgJ5wFPekSOh",
        "outputId": "bb93988b-d1a6-407d-88a7-c6d8f0b84532"
      },
      "source": [
        "graph = pd.DataFrame(np.array([[\"Linear Regression\", RMSE, MAE, MSE], [\"Gradient Boosting Regressor\", RMSE_, MAE_, MSE_]]),\r\n",
        "                   columns = [\"model name\", \"RMSE\", \"MAE\", \"MSE\"])\r\n",
        "graph"
      ],
      "execution_count": 47,
      "outputs": [
        {
          "output_type": "execute_result",
          "data": {
            "text/html": [
              "<div>\n",
              "<style scoped>\n",
              "    .dataframe tbody tr th:only-of-type {\n",
              "        vertical-align: middle;\n",
              "    }\n",
              "\n",
              "    .dataframe tbody tr th {\n",
              "        vertical-align: top;\n",
              "    }\n",
              "\n",
              "    .dataframe thead th {\n",
              "        text-align: right;\n",
              "    }\n",
              "</style>\n",
              "<table border=\"1\" class=\"dataframe\">\n",
              "  <thead>\n",
              "    <tr style=\"text-align: right;\">\n",
              "      <th></th>\n",
              "      <th>model name</th>\n",
              "      <th>RMSE</th>\n",
              "      <th>MAE</th>\n",
              "      <th>MSE</th>\n",
              "    </tr>\n",
              "  </thead>\n",
              "  <tbody>\n",
              "    <tr>\n",
              "      <th>0</th>\n",
              "      <td>Linear Regression</td>\n",
              "      <td>0.28069022144316425</td>\n",
              "      <td>0.43492100358624547</td>\n",
              "      <td>0.5298020587381331</td>\n",
              "    </tr>\n",
              "    <tr>\n",
              "      <th>1</th>\n",
              "      <td>Gradient Boosting Regressor</td>\n",
              "      <td>0.275797811468459</td>\n",
              "      <td>0.4343524278789263</td>\n",
              "      <td>0.5251645565615211</td>\n",
              "    </tr>\n",
              "  </tbody>\n",
              "</table>\n",
              "</div>"
            ],
            "text/plain": [
              "                    model name  ...                 MSE\n",
              "0            Linear Regression  ...  0.5298020587381331\n",
              "1  Gradient Boosting Regressor  ...  0.5251645565615211\n",
              "\n",
              "[2 rows x 4 columns]"
            ]
          },
          "metadata": {
            "tags": []
          },
          "execution_count": 47
        }
      ]
    },
    {
      "cell_type": "code",
      "metadata": {
        "colab": {
          "base_uri": "https://localhost:8080/",
          "height": 295
        },
        "id": "bZv4MenQpYOF",
        "outputId": "75e669e9-d8d1-4830-e001-7722d95df596"
      },
      "source": [
        "# Look at index 4 and 6, which demonstrate overlapping cases.\n",
        "x1 = [1, 4, 7]\n",
        "y1 = [0.28069022, 0.434921003, 0.52980205]\n",
        "\n",
        "x2 = [2, 5, 8]\n",
        "y2 = [0.275797811, 0.434353524, 0.525164556]\n",
        "\n",
        "# Colors: https://matplotlib.org/api/colors_api.html\n",
        "\n",
        "plt.bar(x1, y1, label=\"Linear Regression\", color='yellow')\n",
        "plt.bar(x2, y2, label=\"Gradient Boosting Regressor\", color='orange')\n",
        "plt.plot()\n",
        "\n",
        "plt.xlabel(\"Models\")\n",
        "plt.ylabel(\"Evaluating\")\n",
        "plt.title(\"Compare between the two linears Models\")\n",
        "plt.legend()\n",
        "plt.show()"
      ],
      "execution_count": 48,
      "outputs": [
        {
          "output_type": "display_data",
          "data": {
            "image/png": "[encoded data removed]",
            "text/plain": [
              "<Figure size 432x288 with 1 Axes>"
            ]
          },
          "metadata": {
            "tags": [],
            "needs_background": "light"
          }
        }
      ]
    }
  ]
}