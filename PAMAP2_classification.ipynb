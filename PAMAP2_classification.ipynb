{
  "nbformat": 4,
  "nbformat_minor": 0,
  "metadata": {
    "colab": {
      "name": "PAMAP2_classification.ipynb",
      "provenance": [],
      "collapsed_sections": [],
      "authorship_tag": "ABX9TyPTEZEZAsvy8QT3KvLIqyUz",
      "include_colab_link": true
    },
    "kernelspec": {
      "name": "python3",
      "display_name": "Python 3"
    }
  },
  "cells": [
    {
      "cell_type": "markdown",
      "metadata": {
        "id": "view-in-github",
        "colab_type": "text"
      },
      "source": [
        "<a href=\"https://colab.research.google.com/github/MoriyaBitton/Data_Science_Final_Project/blob/main/PAMAP2_classification.ipynb\" target=\"_parent\"><img src=\"https://colab.research.google.com/assets/colab-badge.svg\" alt=\"Open In Colab\"/></a>"
      ]
    },
    {
      "cell_type": "code",
      "metadata": {
        "id": "HrPY3Aoa4T85",
        "colab": {
          "base_uri": "https://localhost:8080/"
        },
        "outputId": "683a4f1f-d53f-4bb7-8e57-c118bb41f64b"
      },
      "source": [
        "from google.colab import drive\r\n",
        "drive.mount('/content/drive/')"
      ],
      "execution_count": 2,
      "outputs": [
        {
          "output_type": "stream",
          "text": [
            "Mounted at /content/drive/\n"
          ],
          "name": "stdout"
        }
      ]
    },
    {
      "cell_type": "markdown",
      "metadata": {
        "id": "b1Pz1VwK_4zR"
      },
      "source": [
        "**All import**\r\n",
        "\r\n"
      ]
    },
    {
      "cell_type": "code",
      "metadata": {
        "id": "GaIO25O2zm2k"
      },
      "source": [
        "import glob\r\n",
        "import pandas as pd\r\n",
        "import numpy as np\r\n",
        "import matplotlib.pyplot as plt\r\n",
        "from datetime import date, timedelta, datetime, time\r\n",
        "from sklearn.neighbors import KNeighborsClassifier\r\n",
        "from sklearn.preprocessing import StandardScaler \r\n",
        "from sklearn import metrics\r\n",
        "from sklearn.metrics import accuracy_score\r\n",
        "from sklearn.metrics import confusion_matrix\r\n",
        "import seaborn as sn\r\n",
        "from sklearn.ensemble import RandomForestClassifier\r\n",
        "from sklearn import preprocessing\r\n",
        "from sklearn.preprocessing import StandardScaler\r\n",
        "from keras.models import Sequential\r\n",
        "from keras.models import Model\r\n",
        "from sklearn.metrics import plot_confusion_matrix\r\n",
        "from sklearn.metrics import ConfusionMatrixDisplay\r\n",
        "from sklearn.preprocessing import label_binarize"
      ],
      "execution_count": 3,
      "outputs": []
    },
    {
      "cell_type": "markdown",
      "metadata": {
        "id": "M4gHaJf65erp"
      },
      "source": [
        "**Read all Data**"
      ]
    },
    {
      "cell_type": "code",
      "metadata": {
        "colab": {
          "base_uri": "https://localhost:8080/"
        },
        "id": "qpDzjG9y5fZg",
        "outputId": "40ef2f5b-86f1-46c8-d459-7637f7f1f37e"
      },
      "source": [
        "file_path = 'drive/My Drive/Protocol'\r\n",
        "files = glob.glob(file_path+\"/*.dat\")\r\n",
        "print(files)"
      ],
      "execution_count": 4,
      "outputs": [
        {
          "output_type": "stream",
          "text": [
            "['drive/My Drive/Protocol/subject101.dat', 'drive/My Drive/Protocol/subject102.dat', 'drive/My Drive/Protocol/subject103.dat', 'drive/My Drive/Protocol/subject104.dat', 'drive/My Drive/Protocol/subject105.dat', 'drive/My Drive/Protocol/subject106.dat', 'drive/My Drive/Protocol/subject107.dat', 'drive/My Drive/Protocol/subject108.dat', 'drive/My Drive/Protocol/subject109.dat']\n"
          ],
          "name": "stdout"
        }
      ]
    },
    {
      "cell_type": "markdown",
      "metadata": {
        "id": "s_AmZSj2Ag53"
      },
      "source": [
        "**Create columns for the dataset**"
      ]
    },
    {
      "cell_type": "code",
      "metadata": {
        "id": "iaoWa09VAP55"
      },
      "source": [
        "header_name = ['timestamp','activityID','heart rate','IMU hand temperature','IMU hand AD','IMU hand scale 16','IMU hand resolution'\r\n",
        ",'IMU hand AD2','IMU hand scale 6','IMU hand resolution *','IMU hand gyro1','IMU hand gyro2','IMU hand gyro3',\r\n",
        "'IMU hand mag1', 'IMU hand mag2', 'IMU hand mag3','IMU hand orientation1', 'IMU hand orientation2','IMU hand orientation3','IMU hand orientation4',\r\n",
        "'IMU chest temperature','IMU chest AD','IMU chest scale 16','IMU chest resolution'\r\n",
        ",'IMU chest AD2','IMU chest scale 6','IMU chest resolution *','IMU chest gyro1','IMU chest gyro2','IMU chest gyro3',\r\n",
        "'IMU chest mag1', 'IMU chest mag2', 'IMU chest mag3','IMU chest orientation1', 'IMU chest orientation2','IMU chest orientation3','IMU chest orientation4',\r\n",
        "'IMU ankle temperature','IMU ankle AD','IMU ankle scale 16','IMU ankle resolution'\r\n",
        ",'IMU ankle AD2','IMU ankle scale 6','IMU ankle resolution *','IMU ankle gyro1','IMU ankle gyro2','IMU ankle gyro3',\r\n",
        "'IMU ankle mag1', 'IMU ankle mag2', 'IMU ankle mag3','IMU ankle orientation1', 'IMU ankle orientation2','IMU ankle orientation3','IMU ankle orientation4']\r\n",
        "\r\n",
        "\r\n",
        "naive_columns=['heart rate','IMU hand temperature','IMU hand gyro1','IMU hand gyro2','IMU hand gyro3',\r\n",
        "'IMU hand mag1', 'IMU hand mag2', 'IMU hand mag3',\r\n",
        "'IMU chest temperature','IMU chest gyro1','IMU chest gyro2','IMU chest gyro3',\r\n",
        "'IMU chest mag1', 'IMU chest mag2', 'IMU chest mag3',\r\n",
        "'IMU ankle temperature','IMU ankle gyro1','IMU ankle gyro2','IMU ankle gyro3',\r\n",
        "'IMU ankle mag1', 'IMU ankle mag2', 'IMU ankle mag3']"
      ],
      "execution_count": 7,
      "outputs": []
    },
    {
      "cell_type": "markdown",
      "metadata": {
        "id": "Z5W40rrvAz49"
      },
      "source": [
        "For fill NaN values, we get any subject and do partition per activity and fill all NaN by average in every column. \r\n",
        "There are missing sensory data due to wireless data dropping: missing values are indicated with NaN. \r\n",
        "Since data is given every 0.01s (due to the fact, that the IMUs have a sampling frequency of 100Hz), and the sampling frequency of the HR-monitor was only approximately 9Hz, the missing HR-values are also indicated with NaN in the data-files."
      ]
    },
    {
      "cell_type": "code",
      "metadata": {
        "id": "zbR1YKxJAy5I"
      },
      "source": [
        "def fillNanValues(df):\r\n",
        "  data_mean = df.groupby(['activityID']).mean()\r\n",
        "  dic = {}\r\n",
        "  data = pd.DataFrame(columns = df.columns)\r\n",
        "  for i in (df['activityID'].unique()):\r\n",
        "    dic[i] = df[df['activityID'] == i]\r\n",
        "  for k,v in dic.items():\r\n",
        "    data_check = pd.DataFrame(data=v, columns=df.columns)\r\n",
        "    for column in data_check.columns:\r\n",
        "      if(column == 'timestamp' or column == 'activityID'):\r\n",
        "          continue\r\n",
        "      data_check[column]=data_check[column].fillna(data_mean.loc[k,column])\r\n",
        "    data = data.append(data_check)  \r\n",
        "  return data"
      ],
      "execution_count": 8,
      "outputs": []
    },
    {
      "cell_type": "markdown",
      "metadata": {
        "id": "aJM4nrdOA8yb"
      },
      "source": [
        "Read all data files and creat all partition dataset we using later - first we analyzed only the protocol (25 differnt activities)"
      ]
    },
    {
      "cell_type": "code",
      "metadata": {
        "colab": {
          "base_uri": "https://localhost:8080/"
        },
        "id": "64_at6195UO1",
        "outputId": "9f7cca39-ec4a-4187-d4e5-fcbbd4394c84"
      },
      "source": [
        "all_data=pd.DataFrame(columns=header_name)\r\n",
        "df_train = pd.DataFrame(columns=header_name)\r\n",
        "df_test = pd.DataFrame(columns=header_name)\r\n",
        "choosen_activities = [1, 2, 3]\r\n",
        "for file in files:\r\n",
        "  df = pd.DataFrame(columns=header_name)\r\n",
        "  df_all_acitivities = pd.read_csv(file,sep=\" \", names=header_name)\r\n",
        "  for activity in choosen_activities:\r\n",
        "    temp = df_all_acitivities[df_all_acitivities['activityID']== activity]\r\n",
        "    df = df.append(temp,ignore_index=True)\r\n",
        "  if(df.shape[0] == 0):\r\n",
        "    continue  \r\n",
        "  df= fillNanValues(df)\r\n",
        "  df['timestamp'] = pd.to_datetime(df['timestamp'],unit='s')\r\n",
        "  if(file == 'drive/My Drive/Protocol/subject107.dat'):\r\n",
        "      df_test = df_test.append(df,ignore_index=True)\r\n",
        "  elif(file == 'drive/My Drive/Protocol/subject101.dat' or file == 'drive/My Drive/Protocol/subject102.dat' or file == 'drive/My Drive/Protocol/subject103.dat' ):\r\n",
        "      df_train = df_train.append(df,ignore_index=True)  \r\n",
        "  print(file)\r\n",
        "  all_data = all_data.append(df,ignore_index=True)"
      ],
      "execution_count": 9,
      "outputs": [
        {
          "output_type": "stream",
          "text": [
            "drive/My Drive/Protocol/subject101.dat\n",
            "drive/My Drive/Protocol/subject102.dat\n",
            "drive/My Drive/Protocol/subject103.dat\n",
            "drive/My Drive/Protocol/subject104.dat\n",
            "drive/My Drive/Protocol/subject105.dat\n",
            "drive/My Drive/Protocol/subject106.dat\n",
            "drive/My Drive/Protocol/subject107.dat\n",
            "drive/My Drive/Protocol/subject108.dat\n"
          ],
          "name": "stdout"
        }
      ]
    },
    {
      "cell_type": "markdown",
      "metadata": {
        "id": "EApWk6lFBJuG"
      },
      "source": [
        "Get some details on datasets: train, test"
      ]
    },
    {
      "cell_type": "code",
      "metadata": {
        "colab": {
          "base_uri": "https://localhost:8080/"
        },
        "id": "HQ6zAbO88QgD",
        "outputId": "c2f2c2b2-c6f3-4cd0-bbbf-37e74f282d74"
      },
      "source": [
        "print(\"train data: {0}\".format(df_train.shape))\r\n",
        "print(\"test_data: {0}\".format(df_test.shape)) "
      ],
      "execution_count": 10,
      "outputs": [
        {
          "output_type": "stream",
          "text": [
            "train data: (215073, 54)\n",
            "test_data: (63644, 54)\n"
          ],
          "name": "stdout"
        }
      ]
    },
    {
      "cell_type": "code",
      "metadata": {
        "colab": {
          "base_uri": "https://localhost:8080/",
          "height": 350
        },
        "id": "X-8qNXCU47E5",
        "outputId": "e28ffb00-2e9a-4c89-c4ea-e44262dae339"
      },
      "source": [
        "df_train.head()"
      ],
      "execution_count": 11,
      "outputs": [
        {
          "output_type": "execute_result",
          "data": {
            "text/html": [
              "<div>\n",
              "<style scoped>\n",
              "    .dataframe tbody tr th:only-of-type {\n",
              "        vertical-align: middle;\n",
              "    }\n",
              "\n",
              "    .dataframe tbody tr th {\n",
              "        vertical-align: top;\n",
              "    }\n",
              "\n",
              "    .dataframe thead th {\n",
              "        text-align: right;\n",
              "    }\n",
              "</style>\n",
              "<table border=\"1\" class=\"dataframe\">\n",
              "  <thead>\n",
              "    <tr style=\"text-align: right;\">\n",
              "      <th></th>\n",
              "      <th>timestamp</th>\n",
              "      <th>activityID</th>\n",
              "      <th>heart rate</th>\n",
              "      <th>IMU hand temperature</th>\n",
              "      <th>IMU hand AD</th>\n",
              "      <th>IMU hand scale 16</th>\n",
              "      <th>IMU hand resolution</th>\n",
              "      <th>IMU hand AD2</th>\n",
              "      <th>IMU hand scale 6</th>\n",
              "      <th>IMU hand resolution *</th>\n",
              "      <th>IMU hand gyro1</th>\n",
              "      <th>IMU hand gyro2</th>\n",
              "      <th>IMU hand gyro3</th>\n",
              "      <th>IMU hand mag1</th>\n",
              "      <th>IMU hand mag2</th>\n",
              "      <th>IMU hand mag3</th>\n",
              "      <th>IMU hand orientation1</th>\n",
              "      <th>IMU hand orientation2</th>\n",
              "      <th>IMU hand orientation3</th>\n",
              "      <th>IMU hand orientation4</th>\n",
              "      <th>IMU chest temperature</th>\n",
              "      <th>IMU chest AD</th>\n",
              "      <th>IMU chest scale 16</th>\n",
              "      <th>IMU chest resolution</th>\n",
              "      <th>IMU chest AD2</th>\n",
              "      <th>IMU chest scale 6</th>\n",
              "      <th>IMU chest resolution *</th>\n",
              "      <th>IMU chest gyro1</th>\n",
              "      <th>IMU chest gyro2</th>\n",
              "      <th>IMU chest gyro3</th>\n",
              "      <th>IMU chest mag1</th>\n",
              "      <th>IMU chest mag2</th>\n",
              "      <th>IMU chest mag3</th>\n",
              "      <th>IMU chest orientation1</th>\n",
              "      <th>IMU chest orientation2</th>\n",
              "      <th>IMU chest orientation3</th>\n",
              "      <th>IMU chest orientation4</th>\n",
              "      <th>IMU ankle temperature</th>\n",
              "      <th>IMU ankle AD</th>\n",
              "      <th>IMU ankle scale 16</th>\n",
              "      <th>IMU ankle resolution</th>\n",
              "      <th>IMU ankle AD2</th>\n",
              "      <th>IMU ankle scale 6</th>\n",
              "      <th>IMU ankle resolution *</th>\n",
              "      <th>IMU ankle gyro1</th>\n",
              "      <th>IMU ankle gyro2</th>\n",
              "      <th>IMU ankle gyro3</th>\n",
              "      <th>IMU ankle mag1</th>\n",
              "      <th>IMU ankle mag2</th>\n",
              "      <th>IMU ankle mag3</th>\n",
              "      <th>IMU ankle orientation1</th>\n",
              "      <th>IMU ankle orientation2</th>\n",
              "      <th>IMU ankle orientation3</th>\n",
              "      <th>IMU ankle orientation4</th>\n",
              "    </tr>\n",
              "  </thead>\n",
              "  <tbody>\n",
              "    <tr>\n",
              "      <th>0</th>\n",
              "      <td>1970-01-01 00:00:37.660</td>\n",
              "      <td>1</td>\n",
              "      <td>87.528158</td>\n",
              "      <td>30.375</td>\n",
              "      <td>2.21530</td>\n",
              "      <td>8.27915</td>\n",
              "      <td>5.58753</td>\n",
              "      <td>2.24689</td>\n",
              "      <td>8.55387</td>\n",
              "      <td>5.77143</td>\n",
              "      <td>-0.004750</td>\n",
              "      <td>0.037579</td>\n",
              "      <td>-0.011145</td>\n",
              "      <td>8.93200</td>\n",
              "      <td>-67.9326</td>\n",
              "      <td>-19.9755</td>\n",
              "      <td>1.0</td>\n",
              "      <td>0.0</td>\n",
              "      <td>0.0</td>\n",
              "      <td>0.0</td>\n",
              "      <td>32.1875</td>\n",
              "      <td>0.124482</td>\n",
              "      <td>9.65003</td>\n",
              "      <td>-1.65181</td>\n",
              "      <td>0.143941</td>\n",
              "      <td>9.71019</td>\n",
              "      <td>-1.47347</td>\n",
              "      <td>0.036668</td>\n",
              "      <td>0.016559</td>\n",
              "      <td>-0.052791</td>\n",
              "      <td>0.567566</td>\n",
              "      <td>-50.7269</td>\n",
              "      <td>44.2728</td>\n",
              "      <td>1.0</td>\n",
              "      <td>0.0</td>\n",
              "      <td>0.0</td>\n",
              "      <td>0.0</td>\n",
              "      <td>30.75</td>\n",
              "      <td>9.73855</td>\n",
              "      <td>-1.84761</td>\n",
              "      <td>0.095156</td>\n",
              "      <td>9.63162</td>\n",
              "      <td>-1.76757</td>\n",
              "      <td>0.265761</td>\n",
              "      <td>0.002908</td>\n",
              "      <td>-0.027714</td>\n",
              "      <td>0.001752</td>\n",
              "      <td>-61.1081</td>\n",
              "      <td>-36.8636</td>\n",
              "      <td>-58.3696</td>\n",
              "      <td>1.0</td>\n",
              "      <td>0.0</td>\n",
              "      <td>0.0</td>\n",
              "      <td>0.0</td>\n",
              "    </tr>\n",
              "    <tr>\n",
              "      <th>1</th>\n",
              "      <td>1970-01-01 00:00:37.670</td>\n",
              "      <td>1</td>\n",
              "      <td>87.528158</td>\n",
              "      <td>30.375</td>\n",
              "      <td>2.29196</td>\n",
              "      <td>7.67288</td>\n",
              "      <td>5.74467</td>\n",
              "      <td>2.27373</td>\n",
              "      <td>8.14592</td>\n",
              "      <td>5.78739</td>\n",
              "      <td>-0.171710</td>\n",
              "      <td>0.025479</td>\n",
              "      <td>-0.009538</td>\n",
              "      <td>9.58300</td>\n",
              "      <td>-67.9584</td>\n",
              "      <td>-20.9091</td>\n",
              "      <td>1.0</td>\n",
              "      <td>0.0</td>\n",
              "      <td>0.0</td>\n",
              "      <td>0.0</td>\n",
              "      <td>32.1875</td>\n",
              "      <td>0.200711</td>\n",
              "      <td>9.64980</td>\n",
              "      <td>-1.65043</td>\n",
              "      <td>0.129092</td>\n",
              "      <td>9.74041</td>\n",
              "      <td>-1.47329</td>\n",
              "      <td>0.019343</td>\n",
              "      <td>-0.024304</td>\n",
              "      <td>-0.059843</td>\n",
              "      <td>0.904990</td>\n",
              "      <td>-50.5080</td>\n",
              "      <td>43.5427</td>\n",
              "      <td>1.0</td>\n",
              "      <td>0.0</td>\n",
              "      <td>0.0</td>\n",
              "      <td>0.0</td>\n",
              "      <td>30.75</td>\n",
              "      <td>9.69762</td>\n",
              "      <td>-1.88438</td>\n",
              "      <td>-0.020804</td>\n",
              "      <td>9.58649</td>\n",
              "      <td>-1.75247</td>\n",
              "      <td>0.250816</td>\n",
              "      <td>0.020882</td>\n",
              "      <td>0.000945</td>\n",
              "      <td>0.006007</td>\n",
              "      <td>-60.8916</td>\n",
              "      <td>-36.3197</td>\n",
              "      <td>-58.3656</td>\n",
              "      <td>1.0</td>\n",
              "      <td>0.0</td>\n",
              "      <td>0.0</td>\n",
              "      <td>0.0</td>\n",
              "    </tr>\n",
              "    <tr>\n",
              "      <th>2</th>\n",
              "      <td>1970-01-01 00:00:37.680</td>\n",
              "      <td>1</td>\n",
              "      <td>87.528158</td>\n",
              "      <td>30.375</td>\n",
              "      <td>2.29090</td>\n",
              "      <td>7.14240</td>\n",
              "      <td>5.82342</td>\n",
              "      <td>2.26966</td>\n",
              "      <td>7.66268</td>\n",
              "      <td>5.78846</td>\n",
              "      <td>-0.238241</td>\n",
              "      <td>0.011214</td>\n",
              "      <td>0.000831</td>\n",
              "      <td>9.05516</td>\n",
              "      <td>-67.4017</td>\n",
              "      <td>-19.5083</td>\n",
              "      <td>1.0</td>\n",
              "      <td>0.0</td>\n",
              "      <td>0.0</td>\n",
              "      <td>0.0</td>\n",
              "      <td>32.1875</td>\n",
              "      <td>0.270277</td>\n",
              "      <td>9.72331</td>\n",
              "      <td>-1.88174</td>\n",
              "      <td>0.144685</td>\n",
              "      <td>9.77048</td>\n",
              "      <td>-1.41285</td>\n",
              "      <td>-0.001428</td>\n",
              "      <td>0.038466</td>\n",
              "      <td>-0.046464</td>\n",
              "      <td>0.455480</td>\n",
              "      <td>-50.7209</td>\n",
              "      <td>44.0259</td>\n",
              "      <td>1.0</td>\n",
              "      <td>0.0</td>\n",
              "      <td>0.0</td>\n",
              "      <td>0.0</td>\n",
              "      <td>30.75</td>\n",
              "      <td>9.69633</td>\n",
              "      <td>-1.92203</td>\n",
              "      <td>-0.059173</td>\n",
              "      <td>9.60196</td>\n",
              "      <td>-1.73721</td>\n",
              "      <td>0.356632</td>\n",
              "      <td>-0.035392</td>\n",
              "      <td>-0.052422</td>\n",
              "      <td>-0.004882</td>\n",
              "      <td>-60.3407</td>\n",
              "      <td>-35.7842</td>\n",
              "      <td>-58.6119</td>\n",
              "      <td>1.0</td>\n",
              "      <td>0.0</td>\n",
              "      <td>0.0</td>\n",
              "      <td>0.0</td>\n",
              "    </tr>\n",
              "    <tr>\n",
              "      <th>3</th>\n",
              "      <td>1970-01-01 00:00:37.690</td>\n",
              "      <td>1</td>\n",
              "      <td>87.528158</td>\n",
              "      <td>30.375</td>\n",
              "      <td>2.21800</td>\n",
              "      <td>7.14365</td>\n",
              "      <td>5.89930</td>\n",
              "      <td>2.22177</td>\n",
              "      <td>7.25535</td>\n",
              "      <td>5.88000</td>\n",
              "      <td>-0.192912</td>\n",
              "      <td>0.019053</td>\n",
              "      <td>0.013374</td>\n",
              "      <td>9.92698</td>\n",
              "      <td>-67.4387</td>\n",
              "      <td>-20.5602</td>\n",
              "      <td>1.0</td>\n",
              "      <td>0.0</td>\n",
              "      <td>0.0</td>\n",
              "      <td>0.0</td>\n",
              "      <td>32.1875</td>\n",
              "      <td>0.236737</td>\n",
              "      <td>9.72447</td>\n",
              "      <td>-1.72746</td>\n",
              "      <td>0.174402</td>\n",
              "      <td>9.75538</td>\n",
              "      <td>-1.45841</td>\n",
              "      <td>0.017277</td>\n",
              "      <td>-0.048547</td>\n",
              "      <td>-0.074946</td>\n",
              "      <td>0.324284</td>\n",
              "      <td>-50.1544</td>\n",
              "      <td>43.6570</td>\n",
              "      <td>1.0</td>\n",
              "      <td>0.0</td>\n",
              "      <td>0.0</td>\n",
              "      <td>0.0</td>\n",
              "      <td>30.75</td>\n",
              "      <td>9.66370</td>\n",
              "      <td>-1.84714</td>\n",
              "      <td>0.094385</td>\n",
              "      <td>9.58674</td>\n",
              "      <td>-1.78264</td>\n",
              "      <td>0.311453</td>\n",
              "      <td>-0.032514</td>\n",
              "      <td>-0.018844</td>\n",
              "      <td>0.026950</td>\n",
              "      <td>-60.7646</td>\n",
              "      <td>-37.1028</td>\n",
              "      <td>-57.8799</td>\n",
              "      <td>1.0</td>\n",
              "      <td>0.0</td>\n",
              "      <td>0.0</td>\n",
              "      <td>0.0</td>\n",
              "    </tr>\n",
              "    <tr>\n",
              "      <th>4</th>\n",
              "      <td>1970-01-01 00:00:37.700</td>\n",
              "      <td>1</td>\n",
              "      <td>100.000000</td>\n",
              "      <td>30.375</td>\n",
              "      <td>2.30106</td>\n",
              "      <td>7.25857</td>\n",
              "      <td>6.09259</td>\n",
              "      <td>2.20720</td>\n",
              "      <td>7.24042</td>\n",
              "      <td>5.95555</td>\n",
              "      <td>-0.069961</td>\n",
              "      <td>-0.018328</td>\n",
              "      <td>0.004582</td>\n",
              "      <td>9.15626</td>\n",
              "      <td>-67.1825</td>\n",
              "      <td>-20.0857</td>\n",
              "      <td>1.0</td>\n",
              "      <td>0.0</td>\n",
              "      <td>0.0</td>\n",
              "      <td>0.0</td>\n",
              "      <td>32.1875</td>\n",
              "      <td>0.352225</td>\n",
              "      <td>9.72437</td>\n",
              "      <td>-1.68665</td>\n",
              "      <td>0.173568</td>\n",
              "      <td>9.69512</td>\n",
              "      <td>-1.53414</td>\n",
              "      <td>0.000275</td>\n",
              "      <td>-0.013352</td>\n",
              "      <td>-0.039315</td>\n",
              "      <td>0.462317</td>\n",
              "      <td>-50.7110</td>\n",
              "      <td>42.9228</td>\n",
              "      <td>1.0</td>\n",
              "      <td>0.0</td>\n",
              "      <td>0.0</td>\n",
              "      <td>0.0</td>\n",
              "      <td>30.75</td>\n",
              "      <td>9.77578</td>\n",
              "      <td>-1.88582</td>\n",
              "      <td>0.095775</td>\n",
              "      <td>9.64677</td>\n",
              "      <td>-1.75240</td>\n",
              "      <td>0.295902</td>\n",
              "      <td>0.001351</td>\n",
              "      <td>-0.048878</td>\n",
              "      <td>-0.006328</td>\n",
              "      <td>-60.2040</td>\n",
              "      <td>-37.1225</td>\n",
              "      <td>-57.8847</td>\n",
              "      <td>1.0</td>\n",
              "      <td>0.0</td>\n",
              "      <td>0.0</td>\n",
              "      <td>0.0</td>\n",
              "    </tr>\n",
              "  </tbody>\n",
              "</table>\n",
              "</div>"
            ],
            "text/plain": [
              "                timestamp  ... IMU ankle orientation4\n",
              "0 1970-01-01 00:00:37.660  ...                    0.0\n",
              "1 1970-01-01 00:00:37.670  ...                    0.0\n",
              "2 1970-01-01 00:00:37.680  ...                    0.0\n",
              "3 1970-01-01 00:00:37.690  ...                    0.0\n",
              "4 1970-01-01 00:00:37.700  ...                    0.0\n",
              "\n",
              "[5 rows x 54 columns]"
            ]
          },
          "metadata": {
            "tags": []
          },
          "execution_count": 11
        }
      ]
    },
    {
      "cell_type": "code",
      "metadata": {
        "colab": {
          "base_uri": "https://localhost:8080/",
          "height": 350
        },
        "id": "w-XsmRWM_Fzk",
        "outputId": "2377b29b-40a9-40ae-9e16-32297c926085"
      },
      "source": [
        "df_test.head()"
      ],
      "execution_count": 19,
      "outputs": [
        {
          "output_type": "execute_result",
          "data": {
            "text/html": [
              "<div>\n",
              "<style scoped>\n",
              "    .dataframe tbody tr th:only-of-type {\n",
              "        vertical-align: middle;\n",
              "    }\n",
              "\n",
              "    .dataframe tbody tr th {\n",
              "        vertical-align: top;\n",
              "    }\n",
              "\n",
              "    .dataframe thead th {\n",
              "        text-align: right;\n",
              "    }\n",
              "</style>\n",
              "<table border=\"1\" class=\"dataframe\">\n",
              "  <thead>\n",
              "    <tr style=\"text-align: right;\">\n",
              "      <th></th>\n",
              "      <th>timestamp</th>\n",
              "      <th>activityID</th>\n",
              "      <th>heart rate</th>\n",
              "      <th>IMU hand temperature</th>\n",
              "      <th>IMU hand AD</th>\n",
              "      <th>IMU hand scale 16</th>\n",
              "      <th>IMU hand resolution</th>\n",
              "      <th>IMU hand AD2</th>\n",
              "      <th>IMU hand scale 6</th>\n",
              "      <th>IMU hand resolution *</th>\n",
              "      <th>IMU hand gyro1</th>\n",
              "      <th>IMU hand gyro2</th>\n",
              "      <th>IMU hand gyro3</th>\n",
              "      <th>IMU hand mag1</th>\n",
              "      <th>IMU hand mag2</th>\n",
              "      <th>IMU hand mag3</th>\n",
              "      <th>IMU hand orientation1</th>\n",
              "      <th>IMU hand orientation2</th>\n",
              "      <th>IMU hand orientation3</th>\n",
              "      <th>IMU hand orientation4</th>\n",
              "      <th>IMU chest temperature</th>\n",
              "      <th>IMU chest AD</th>\n",
              "      <th>IMU chest scale 16</th>\n",
              "      <th>IMU chest resolution</th>\n",
              "      <th>IMU chest AD2</th>\n",
              "      <th>IMU chest scale 6</th>\n",
              "      <th>IMU chest resolution *</th>\n",
              "      <th>IMU chest gyro1</th>\n",
              "      <th>IMU chest gyro2</th>\n",
              "      <th>IMU chest gyro3</th>\n",
              "      <th>IMU chest mag1</th>\n",
              "      <th>IMU chest mag2</th>\n",
              "      <th>IMU chest mag3</th>\n",
              "      <th>IMU chest orientation1</th>\n",
              "      <th>IMU chest orientation2</th>\n",
              "      <th>IMU chest orientation3</th>\n",
              "      <th>IMU chest orientation4</th>\n",
              "      <th>IMU ankle temperature</th>\n",
              "      <th>IMU ankle AD</th>\n",
              "      <th>IMU ankle scale 16</th>\n",
              "      <th>IMU ankle resolution</th>\n",
              "      <th>IMU ankle AD2</th>\n",
              "      <th>IMU ankle scale 6</th>\n",
              "      <th>IMU ankle resolution *</th>\n",
              "      <th>IMU ankle gyro1</th>\n",
              "      <th>IMU ankle gyro2</th>\n",
              "      <th>IMU ankle gyro3</th>\n",
              "      <th>IMU ankle mag1</th>\n",
              "      <th>IMU ankle mag2</th>\n",
              "      <th>IMU ankle mag3</th>\n",
              "      <th>IMU ankle orientation1</th>\n",
              "      <th>IMU ankle orientation2</th>\n",
              "      <th>IMU ankle orientation3</th>\n",
              "      <th>IMU ankle orientation4</th>\n",
              "    </tr>\n",
              "  </thead>\n",
              "  <tbody>\n",
              "    <tr>\n",
              "      <th>0</th>\n",
              "      <td>1970-01-01 00:01:24.280</td>\n",
              "      <td>1</td>\n",
              "      <td>66.320666</td>\n",
              "      <td>30.1875</td>\n",
              "      <td>-9.62005</td>\n",
              "      <td>2.67684</td>\n",
              "      <td>0.926122</td>\n",
              "      <td>-9.46309</td>\n",
              "      <td>2.71374</td>\n",
              "      <td>0.903551</td>\n",
              "      <td>0.011622</td>\n",
              "      <td>0.019711</td>\n",
              "      <td>-0.062479</td>\n",
              "      <td>48.1327</td>\n",
              "      <td>11.2280</td>\n",
              "      <td>9.44988</td>\n",
              "      <td>0.677891</td>\n",
              "      <td>-0.423663</td>\n",
              "      <td>-0.530514</td>\n",
              "      <td>0.282009</td>\n",
              "      <td>32.5625</td>\n",
              "      <td>1.68139</td>\n",
              "      <td>9.76549</td>\n",
              "      <td>-0.539797</td>\n",
              "      <td>1.42894</td>\n",
              "      <td>9.70580</td>\n",
              "      <td>-0.393129</td>\n",
              "      <td>0.008242</td>\n",
              "      <td>-0.018560</td>\n",
              "      <td>-0.026403</td>\n",
              "      <td>-2.86061</td>\n",
              "      <td>-36.3764</td>\n",
              "      <td>29.2249</td>\n",
              "      <td>0.476526</td>\n",
              "      <td>-0.570069</td>\n",
              "      <td>-0.450644</td>\n",
              "      <td>-0.494838</td>\n",
              "      <td>30.0</td>\n",
              "      <td>9.54517</td>\n",
              "      <td>-0.492300</td>\n",
              "      <td>-3.00240</td>\n",
              "      <td>9.40911</td>\n",
              "      <td>-0.394953</td>\n",
              "      <td>-2.76452</td>\n",
              "      <td>0.006833</td>\n",
              "      <td>-0.013777</td>\n",
              "      <td>0.024738</td>\n",
              "      <td>-54.0963</td>\n",
              "      <td>-43.0364</td>\n",
              "      <td>-1.710570</td>\n",
              "      <td>0.471341</td>\n",
              "      <td>-0.445500</td>\n",
              "      <td>0.668089</td>\n",
              "      <td>-0.364725</td>\n",
              "    </tr>\n",
              "    <tr>\n",
              "      <th>1</th>\n",
              "      <td>1970-01-01 00:01:24.290</td>\n",
              "      <td>1</td>\n",
              "      <td>66.320666</td>\n",
              "      <td>30.1875</td>\n",
              "      <td>-9.62566</td>\n",
              "      <td>2.63756</td>\n",
              "      <td>0.772221</td>\n",
              "      <td>-9.49348</td>\n",
              "      <td>2.72902</td>\n",
              "      <td>0.858246</td>\n",
              "      <td>0.014394</td>\n",
              "      <td>0.020437</td>\n",
              "      <td>-0.038187</td>\n",
              "      <td>47.3961</td>\n",
              "      <td>10.6468</td>\n",
              "      <td>9.32366</td>\n",
              "      <td>0.677789</td>\n",
              "      <td>-0.423596</td>\n",
              "      <td>-0.530593</td>\n",
              "      <td>0.282203</td>\n",
              "      <td>32.5625</td>\n",
              "      <td>1.65387</td>\n",
              "      <td>9.88090</td>\n",
              "      <td>-0.192182</td>\n",
              "      <td>1.42969</td>\n",
              "      <td>9.79631</td>\n",
              "      <td>-0.362645</td>\n",
              "      <td>0.011283</td>\n",
              "      <td>-0.058740</td>\n",
              "      <td>-0.025865</td>\n",
              "      <td>-1.82456</td>\n",
              "      <td>-36.9306</td>\n",
              "      <td>29.3763</td>\n",
              "      <td>0.476903</td>\n",
              "      <td>-0.570187</td>\n",
              "      <td>-0.450532</td>\n",
              "      <td>-0.494440</td>\n",
              "      <td>30.0</td>\n",
              "      <td>9.54537</td>\n",
              "      <td>-0.454331</td>\n",
              "      <td>-3.00264</td>\n",
              "      <td>9.40919</td>\n",
              "      <td>-0.334435</td>\n",
              "      <td>-2.74958</td>\n",
              "      <td>0.002593</td>\n",
              "      <td>-0.012849</td>\n",
              "      <td>0.021584</td>\n",
              "      <td>-53.8479</td>\n",
              "      <td>-42.7917</td>\n",
              "      <td>-1.851810</td>\n",
              "      <td>0.471472</td>\n",
              "      <td>-0.445282</td>\n",
              "      <td>0.668150</td>\n",
              "      <td>-0.364709</td>\n",
              "    </tr>\n",
              "    <tr>\n",
              "      <th>2</th>\n",
              "      <td>1970-01-01 00:01:24.300</td>\n",
              "      <td>1</td>\n",
              "      <td>66.320666</td>\n",
              "      <td>30.1875</td>\n",
              "      <td>-9.31827</td>\n",
              "      <td>2.78799</td>\n",
              "      <td>0.891780</td>\n",
              "      <td>-9.52324</td>\n",
              "      <td>2.81981</td>\n",
              "      <td>0.812775</td>\n",
              "      <td>0.019775</td>\n",
              "      <td>0.046529</td>\n",
              "      <td>-0.035604</td>\n",
              "      <td>48.1501</td>\n",
              "      <td>10.1100</td>\n",
              "      <td>9.19416</td>\n",
              "      <td>0.677595</td>\n",
              "      <td>-0.423636</td>\n",
              "      <td>-0.530758</td>\n",
              "      <td>0.282301</td>\n",
              "      <td>32.5625</td>\n",
              "      <td>1.45519</td>\n",
              "      <td>9.84203</td>\n",
              "      <td>-0.466702</td>\n",
              "      <td>1.38529</td>\n",
              "      <td>9.79624</td>\n",
              "      <td>-0.241477</td>\n",
              "      <td>0.007567</td>\n",
              "      <td>-0.053458</td>\n",
              "      <td>-0.006914</td>\n",
              "      <td>-2.59905</td>\n",
              "      <td>-36.6440</td>\n",
              "      <td>29.2282</td>\n",
              "      <td>0.476910</td>\n",
              "      <td>-0.570303</td>\n",
              "      <td>-0.450404</td>\n",
              "      <td>-0.494417</td>\n",
              "      <td>30.0</td>\n",
              "      <td>9.51116</td>\n",
              "      <td>-0.683191</td>\n",
              "      <td>-2.84721</td>\n",
              "      <td>9.49966</td>\n",
              "      <td>-0.470428</td>\n",
              "      <td>-2.65881</td>\n",
              "      <td>-0.019102</td>\n",
              "      <td>0.029193</td>\n",
              "      <td>0.006167</td>\n",
              "      <td>-53.5679</td>\n",
              "      <td>-43.4465</td>\n",
              "      <td>-0.857242</td>\n",
              "      <td>0.471577</td>\n",
              "      <td>-0.445313</td>\n",
              "      <td>0.668046</td>\n",
              "      <td>-0.364728</td>\n",
              "    </tr>\n",
              "    <tr>\n",
              "      <th>3</th>\n",
              "      <td>1970-01-01 00:01:24.310</td>\n",
              "      <td>1</td>\n",
              "      <td>66.320666</td>\n",
              "      <td>30.1875</td>\n",
              "      <td>-9.35766</td>\n",
              "      <td>2.75000</td>\n",
              "      <td>0.852831</td>\n",
              "      <td>-9.50791</td>\n",
              "      <td>2.81972</td>\n",
              "      <td>0.842961</td>\n",
              "      <td>0.026513</td>\n",
              "      <td>-0.011152</td>\n",
              "      <td>-0.039049</td>\n",
              "      <td>47.7568</td>\n",
              "      <td>11.6202</td>\n",
              "      <td>9.18579</td>\n",
              "      <td>0.677561</td>\n",
              "      <td>-0.423592</td>\n",
              "      <td>-0.530532</td>\n",
              "      <td>0.282872</td>\n",
              "      <td>32.5625</td>\n",
              "      <td>1.64701</td>\n",
              "      <td>9.87934</td>\n",
              "      <td>-0.424627</td>\n",
              "      <td>1.37045</td>\n",
              "      <td>9.85669</td>\n",
              "      <td>-0.271437</td>\n",
              "      <td>-0.019271</td>\n",
              "      <td>0.001162</td>\n",
              "      <td>0.003869</td>\n",
              "      <td>-2.47723</td>\n",
              "      <td>-36.6489</td>\n",
              "      <td>29.6521</td>\n",
              "      <td>0.476880</td>\n",
              "      <td>-0.570232</td>\n",
              "      <td>-0.450327</td>\n",
              "      <td>-0.494598</td>\n",
              "      <td>30.0</td>\n",
              "      <td>9.50755</td>\n",
              "      <td>-0.530031</td>\n",
              "      <td>-3.00256</td>\n",
              "      <td>9.40938</td>\n",
              "      <td>-0.561235</td>\n",
              "      <td>-2.68831</td>\n",
              "      <td>0.029349</td>\n",
              "      <td>0.024381</td>\n",
              "      <td>0.021216</td>\n",
              "      <td>-53.8327</td>\n",
              "      <td>-42.9179</td>\n",
              "      <td>-0.716955</td>\n",
              "      <td>0.471530</td>\n",
              "      <td>-0.445368</td>\n",
              "      <td>0.667927</td>\n",
              "      <td>-0.364940</td>\n",
              "    </tr>\n",
              "    <tr>\n",
              "      <th>4</th>\n",
              "      <td>1970-01-01 00:01:24.320</td>\n",
              "      <td>1</td>\n",
              "      <td>66.320666</td>\n",
              "      <td>30.1875</td>\n",
              "      <td>-9.39706</td>\n",
              "      <td>2.71202</td>\n",
              "      <td>0.813881</td>\n",
              "      <td>-9.44637</td>\n",
              "      <td>2.86469</td>\n",
              "      <td>0.948505</td>\n",
              "      <td>0.001528</td>\n",
              "      <td>0.000790</td>\n",
              "      <td>-0.044839</td>\n",
              "      <td>47.8825</td>\n",
              "      <td>10.8696</td>\n",
              "      <td>10.23990</td>\n",
              "      <td>0.677514</td>\n",
              "      <td>-0.423499</td>\n",
              "      <td>-0.530740</td>\n",
              "      <td>0.282734</td>\n",
              "      <td>32.5625</td>\n",
              "      <td>1.48614</td>\n",
              "      <td>9.72739</td>\n",
              "      <td>-0.698094</td>\n",
              "      <td>1.35431</td>\n",
              "      <td>9.79652</td>\n",
              "      <td>-0.392415</td>\n",
              "      <td>-0.015039</td>\n",
              "      <td>-0.005531</td>\n",
              "      <td>0.009900</td>\n",
              "      <td>-2.34069</td>\n",
              "      <td>-36.3953</td>\n",
              "      <td>28.9466</td>\n",
              "      <td>0.476896</td>\n",
              "      <td>-0.570218</td>\n",
              "      <td>-0.450230</td>\n",
              "      <td>-0.494687</td>\n",
              "      <td>30.0</td>\n",
              "      <td>9.50825</td>\n",
              "      <td>-0.606290</td>\n",
              "      <td>-2.96349</td>\n",
              "      <td>9.39431</td>\n",
              "      <td>-0.485632</td>\n",
              "      <td>-2.70361</td>\n",
              "      <td>-0.005449</td>\n",
              "      <td>-0.047885</td>\n",
              "      <td>-0.011850</td>\n",
              "      <td>-53.8284</td>\n",
              "      <td>-43.0464</td>\n",
              "      <td>-0.574958</td>\n",
              "      <td>0.471367</td>\n",
              "      <td>-0.445625</td>\n",
              "      <td>0.667963</td>\n",
              "      <td>-0.364770</td>\n",
              "    </tr>\n",
              "  </tbody>\n",
              "</table>\n",
              "</div>"
            ],
            "text/plain": [
              "                timestamp  ... IMU ankle orientation4\n",
              "0 1970-01-01 00:01:24.280  ...              -0.364725\n",
              "1 1970-01-01 00:01:24.290  ...              -0.364709\n",
              "2 1970-01-01 00:01:24.300  ...              -0.364728\n",
              "3 1970-01-01 00:01:24.310  ...              -0.364940\n",
              "4 1970-01-01 00:01:24.320  ...              -0.364770\n",
              "\n",
              "[5 rows x 54 columns]"
            ]
          },
          "metadata": {
            "tags": []
          },
          "execution_count": 19
        }
      ]
    },
    {
      "cell_type": "code",
      "metadata": {
        "colab": {
          "base_uri": "https://localhost:8080/",
          "height": 640
        },
        "id": "SD0D-xq85d9z",
        "outputId": "2a16fc24-df22-42d6-9cac-1d2d844736cd"
      },
      "source": [
        "# ['heart rate'] > 60]\r\n",
        "hr60 = df_train.loc[df_train['heart rate'] > 60]\r\n",
        "hr60"
      ],
      "execution_count": 18,
      "outputs": [
        {
          "output_type": "execute_result",
          "data": {
            "text/html": [
              "<div>\n",
              "<style scoped>\n",
              "    .dataframe tbody tr th:only-of-type {\n",
              "        vertical-align: middle;\n",
              "    }\n",
              "\n",
              "    .dataframe tbody tr th {\n",
              "        vertical-align: top;\n",
              "    }\n",
              "\n",
              "    .dataframe thead th {\n",
              "        text-align: right;\n",
              "    }\n",
              "</style>\n",
              "<table border=\"1\" class=\"dataframe\">\n",
              "  <thead>\n",
              "    <tr style=\"text-align: right;\">\n",
              "      <th></th>\n",
              "      <th>timestamp</th>\n",
              "      <th>activityID</th>\n",
              "      <th>heart rate</th>\n",
              "      <th>IMU hand temperature</th>\n",
              "      <th>IMU hand AD</th>\n",
              "      <th>IMU hand scale 16</th>\n",
              "      <th>IMU hand resolution</th>\n",
              "      <th>IMU hand AD2</th>\n",
              "      <th>IMU hand scale 6</th>\n",
              "      <th>IMU hand resolution *</th>\n",
              "      <th>IMU hand gyro1</th>\n",
              "      <th>IMU hand gyro2</th>\n",
              "      <th>IMU hand gyro3</th>\n",
              "      <th>IMU hand mag1</th>\n",
              "      <th>IMU hand mag2</th>\n",
              "      <th>IMU hand mag3</th>\n",
              "      <th>IMU hand orientation1</th>\n",
              "      <th>IMU hand orientation2</th>\n",
              "      <th>IMU hand orientation3</th>\n",
              "      <th>IMU hand orientation4</th>\n",
              "      <th>IMU chest temperature</th>\n",
              "      <th>IMU chest AD</th>\n",
              "      <th>IMU chest scale 16</th>\n",
              "      <th>IMU chest resolution</th>\n",
              "      <th>IMU chest AD2</th>\n",
              "      <th>IMU chest scale 6</th>\n",
              "      <th>IMU chest resolution *</th>\n",
              "      <th>IMU chest gyro1</th>\n",
              "      <th>IMU chest gyro2</th>\n",
              "      <th>IMU chest gyro3</th>\n",
              "      <th>IMU chest mag1</th>\n",
              "      <th>IMU chest mag2</th>\n",
              "      <th>IMU chest mag3</th>\n",
              "      <th>IMU chest orientation1</th>\n",
              "      <th>IMU chest orientation2</th>\n",
              "      <th>IMU chest orientation3</th>\n",
              "      <th>IMU chest orientation4</th>\n",
              "      <th>IMU ankle temperature</th>\n",
              "      <th>IMU ankle AD</th>\n",
              "      <th>IMU ankle scale 16</th>\n",
              "      <th>IMU ankle resolution</th>\n",
              "      <th>IMU ankle AD2</th>\n",
              "      <th>IMU ankle scale 6</th>\n",
              "      <th>IMU ankle resolution *</th>\n",
              "      <th>IMU ankle gyro1</th>\n",
              "      <th>IMU ankle gyro2</th>\n",
              "      <th>IMU ankle gyro3</th>\n",
              "      <th>IMU ankle mag1</th>\n",
              "      <th>IMU ankle mag2</th>\n",
              "      <th>IMU ankle mag3</th>\n",
              "      <th>IMU ankle orientation1</th>\n",
              "      <th>IMU ankle orientation2</th>\n",
              "      <th>IMU ankle orientation3</th>\n",
              "      <th>IMU ankle orientation4</th>\n",
              "    </tr>\n",
              "  </thead>\n",
              "  <tbody>\n",
              "    <tr>\n",
              "      <th>0</th>\n",
              "      <td>1970-01-01 00:00:37.660</td>\n",
              "      <td>1</td>\n",
              "      <td>87.528158</td>\n",
              "      <td>30.375</td>\n",
              "      <td>2.21530</td>\n",
              "      <td>8.27915</td>\n",
              "      <td>5.58753</td>\n",
              "      <td>2.24689</td>\n",
              "      <td>8.55387</td>\n",
              "      <td>5.77143</td>\n",
              "      <td>-0.004750</td>\n",
              "      <td>0.037579</td>\n",
              "      <td>-0.011145</td>\n",
              "      <td>8.93200</td>\n",
              "      <td>-67.93260</td>\n",
              "      <td>-19.9755</td>\n",
              "      <td>1.000000</td>\n",
              "      <td>0.000000</td>\n",
              "      <td>0.000000</td>\n",
              "      <td>0.000000</td>\n",
              "      <td>32.1875</td>\n",
              "      <td>0.124482</td>\n",
              "      <td>9.65003</td>\n",
              "      <td>-1.651810</td>\n",
              "      <td>0.143941</td>\n",
              "      <td>9.71019</td>\n",
              "      <td>-1.47347</td>\n",
              "      <td>0.036668</td>\n",
              "      <td>0.016559</td>\n",
              "      <td>-0.052791</td>\n",
              "      <td>0.567566</td>\n",
              "      <td>-50.7269</td>\n",
              "      <td>44.27280</td>\n",
              "      <td>1.000000</td>\n",
              "      <td>0.000000</td>\n",
              "      <td>0.000000</td>\n",
              "      <td>0.000000</td>\n",
              "      <td>30.75</td>\n",
              "      <td>9.73855</td>\n",
              "      <td>-1.847610</td>\n",
              "      <td>0.095156</td>\n",
              "      <td>9.63162</td>\n",
              "      <td>-1.767570</td>\n",
              "      <td>0.265761</td>\n",
              "      <td>0.002908</td>\n",
              "      <td>-0.027714</td>\n",
              "      <td>0.001752</td>\n",
              "      <td>-61.10810</td>\n",
              "      <td>-36.86360</td>\n",
              "      <td>-58.3696</td>\n",
              "      <td>1.000000</td>\n",
              "      <td>0.000000</td>\n",
              "      <td>0.000000</td>\n",
              "      <td>0.000000</td>\n",
              "    </tr>\n",
              "    <tr>\n",
              "      <th>1</th>\n",
              "      <td>1970-01-01 00:00:37.670</td>\n",
              "      <td>1</td>\n",
              "      <td>87.528158</td>\n",
              "      <td>30.375</td>\n",
              "      <td>2.29196</td>\n",
              "      <td>7.67288</td>\n",
              "      <td>5.74467</td>\n",
              "      <td>2.27373</td>\n",
              "      <td>8.14592</td>\n",
              "      <td>5.78739</td>\n",
              "      <td>-0.171710</td>\n",
              "      <td>0.025479</td>\n",
              "      <td>-0.009538</td>\n",
              "      <td>9.58300</td>\n",
              "      <td>-67.95840</td>\n",
              "      <td>-20.9091</td>\n",
              "      <td>1.000000</td>\n",
              "      <td>0.000000</td>\n",
              "      <td>0.000000</td>\n",
              "      <td>0.000000</td>\n",
              "      <td>32.1875</td>\n",
              "      <td>0.200711</td>\n",
              "      <td>9.64980</td>\n",
              "      <td>-1.650430</td>\n",
              "      <td>0.129092</td>\n",
              "      <td>9.74041</td>\n",
              "      <td>-1.47329</td>\n",
              "      <td>0.019343</td>\n",
              "      <td>-0.024304</td>\n",
              "      <td>-0.059843</td>\n",
              "      <td>0.904990</td>\n",
              "      <td>-50.5080</td>\n",
              "      <td>43.54270</td>\n",
              "      <td>1.000000</td>\n",
              "      <td>0.000000</td>\n",
              "      <td>0.000000</td>\n",
              "      <td>0.000000</td>\n",
              "      <td>30.75</td>\n",
              "      <td>9.69762</td>\n",
              "      <td>-1.884380</td>\n",
              "      <td>-0.020804</td>\n",
              "      <td>9.58649</td>\n",
              "      <td>-1.752470</td>\n",
              "      <td>0.250816</td>\n",
              "      <td>0.020882</td>\n",
              "      <td>0.000945</td>\n",
              "      <td>0.006007</td>\n",
              "      <td>-60.89160</td>\n",
              "      <td>-36.31970</td>\n",
              "      <td>-58.3656</td>\n",
              "      <td>1.000000</td>\n",
              "      <td>0.000000</td>\n",
              "      <td>0.000000</td>\n",
              "      <td>0.000000</td>\n",
              "    </tr>\n",
              "    <tr>\n",
              "      <th>2</th>\n",
              "      <td>1970-01-01 00:00:37.680</td>\n",
              "      <td>1</td>\n",
              "      <td>87.528158</td>\n",
              "      <td>30.375</td>\n",
              "      <td>2.29090</td>\n",
              "      <td>7.14240</td>\n",
              "      <td>5.82342</td>\n",
              "      <td>2.26966</td>\n",
              "      <td>7.66268</td>\n",
              "      <td>5.78846</td>\n",
              "      <td>-0.238241</td>\n",
              "      <td>0.011214</td>\n",
              "      <td>0.000831</td>\n",
              "      <td>9.05516</td>\n",
              "      <td>-67.40170</td>\n",
              "      <td>-19.5083</td>\n",
              "      <td>1.000000</td>\n",
              "      <td>0.000000</td>\n",
              "      <td>0.000000</td>\n",
              "      <td>0.000000</td>\n",
              "      <td>32.1875</td>\n",
              "      <td>0.270277</td>\n",
              "      <td>9.72331</td>\n",
              "      <td>-1.881740</td>\n",
              "      <td>0.144685</td>\n",
              "      <td>9.77048</td>\n",
              "      <td>-1.41285</td>\n",
              "      <td>-0.001428</td>\n",
              "      <td>0.038466</td>\n",
              "      <td>-0.046464</td>\n",
              "      <td>0.455480</td>\n",
              "      <td>-50.7209</td>\n",
              "      <td>44.02590</td>\n",
              "      <td>1.000000</td>\n",
              "      <td>0.000000</td>\n",
              "      <td>0.000000</td>\n",
              "      <td>0.000000</td>\n",
              "      <td>30.75</td>\n",
              "      <td>9.69633</td>\n",
              "      <td>-1.922030</td>\n",
              "      <td>-0.059173</td>\n",
              "      <td>9.60196</td>\n",
              "      <td>-1.737210</td>\n",
              "      <td>0.356632</td>\n",
              "      <td>-0.035392</td>\n",
              "      <td>-0.052422</td>\n",
              "      <td>-0.004882</td>\n",
              "      <td>-60.34070</td>\n",
              "      <td>-35.78420</td>\n",
              "      <td>-58.6119</td>\n",
              "      <td>1.000000</td>\n",
              "      <td>0.000000</td>\n",
              "      <td>0.000000</td>\n",
              "      <td>0.000000</td>\n",
              "    </tr>\n",
              "    <tr>\n",
              "      <th>3</th>\n",
              "      <td>1970-01-01 00:00:37.690</td>\n",
              "      <td>1</td>\n",
              "      <td>87.528158</td>\n",
              "      <td>30.375</td>\n",
              "      <td>2.21800</td>\n",
              "      <td>7.14365</td>\n",
              "      <td>5.89930</td>\n",
              "      <td>2.22177</td>\n",
              "      <td>7.25535</td>\n",
              "      <td>5.88000</td>\n",
              "      <td>-0.192912</td>\n",
              "      <td>0.019053</td>\n",
              "      <td>0.013374</td>\n",
              "      <td>9.92698</td>\n",
              "      <td>-67.43870</td>\n",
              "      <td>-20.5602</td>\n",
              "      <td>1.000000</td>\n",
              "      <td>0.000000</td>\n",
              "      <td>0.000000</td>\n",
              "      <td>0.000000</td>\n",
              "      <td>32.1875</td>\n",
              "      <td>0.236737</td>\n",
              "      <td>9.72447</td>\n",
              "      <td>-1.727460</td>\n",
              "      <td>0.174402</td>\n",
              "      <td>9.75538</td>\n",
              "      <td>-1.45841</td>\n",
              "      <td>0.017277</td>\n",
              "      <td>-0.048547</td>\n",
              "      <td>-0.074946</td>\n",
              "      <td>0.324284</td>\n",
              "      <td>-50.1544</td>\n",
              "      <td>43.65700</td>\n",
              "      <td>1.000000</td>\n",
              "      <td>0.000000</td>\n",
              "      <td>0.000000</td>\n",
              "      <td>0.000000</td>\n",
              "      <td>30.75</td>\n",
              "      <td>9.66370</td>\n",
              "      <td>-1.847140</td>\n",
              "      <td>0.094385</td>\n",
              "      <td>9.58674</td>\n",
              "      <td>-1.782640</td>\n",
              "      <td>0.311453</td>\n",
              "      <td>-0.032514</td>\n",
              "      <td>-0.018844</td>\n",
              "      <td>0.026950</td>\n",
              "      <td>-60.76460</td>\n",
              "      <td>-37.10280</td>\n",
              "      <td>-57.8799</td>\n",
              "      <td>1.000000</td>\n",
              "      <td>0.000000</td>\n",
              "      <td>0.000000</td>\n",
              "      <td>0.000000</td>\n",
              "    </tr>\n",
              "    <tr>\n",
              "      <th>4</th>\n",
              "      <td>1970-01-01 00:00:37.700</td>\n",
              "      <td>1</td>\n",
              "      <td>100.000000</td>\n",
              "      <td>30.375</td>\n",
              "      <td>2.30106</td>\n",
              "      <td>7.25857</td>\n",
              "      <td>6.09259</td>\n",
              "      <td>2.20720</td>\n",
              "      <td>7.24042</td>\n",
              "      <td>5.95555</td>\n",
              "      <td>-0.069961</td>\n",
              "      <td>-0.018328</td>\n",
              "      <td>0.004582</td>\n",
              "      <td>9.15626</td>\n",
              "      <td>-67.18250</td>\n",
              "      <td>-20.0857</td>\n",
              "      <td>1.000000</td>\n",
              "      <td>0.000000</td>\n",
              "      <td>0.000000</td>\n",
              "      <td>0.000000</td>\n",
              "      <td>32.1875</td>\n",
              "      <td>0.352225</td>\n",
              "      <td>9.72437</td>\n",
              "      <td>-1.686650</td>\n",
              "      <td>0.173568</td>\n",
              "      <td>9.69512</td>\n",
              "      <td>-1.53414</td>\n",
              "      <td>0.000275</td>\n",
              "      <td>-0.013352</td>\n",
              "      <td>-0.039315</td>\n",
              "      <td>0.462317</td>\n",
              "      <td>-50.7110</td>\n",
              "      <td>42.92280</td>\n",
              "      <td>1.000000</td>\n",
              "      <td>0.000000</td>\n",
              "      <td>0.000000</td>\n",
              "      <td>0.000000</td>\n",
              "      <td>30.75</td>\n",
              "      <td>9.77578</td>\n",
              "      <td>-1.885820</td>\n",
              "      <td>0.095775</td>\n",
              "      <td>9.64677</td>\n",
              "      <td>-1.752400</td>\n",
              "      <td>0.295902</td>\n",
              "      <td>0.001351</td>\n",
              "      <td>-0.048878</td>\n",
              "      <td>-0.006328</td>\n",
              "      <td>-60.20400</td>\n",
              "      <td>-37.12250</td>\n",
              "      <td>-57.8847</td>\n",
              "      <td>1.000000</td>\n",
              "      <td>0.000000</td>\n",
              "      <td>0.000000</td>\n",
              "      <td>0.000000</td>\n",
              "    </tr>\n",
              "    <tr>\n",
              "      <th>...</th>\n",
              "      <td>...</td>\n",
              "      <td>...</td>\n",
              "      <td>...</td>\n",
              "      <td>...</td>\n",
              "      <td>...</td>\n",
              "      <td>...</td>\n",
              "      <td>...</td>\n",
              "      <td>...</td>\n",
              "      <td>...</td>\n",
              "      <td>...</td>\n",
              "      <td>...</td>\n",
              "      <td>...</td>\n",
              "      <td>...</td>\n",
              "      <td>...</td>\n",
              "      <td>...</td>\n",
              "      <td>...</td>\n",
              "      <td>...</td>\n",
              "      <td>...</td>\n",
              "      <td>...</td>\n",
              "      <td>...</td>\n",
              "      <td>...</td>\n",
              "      <td>...</td>\n",
              "      <td>...</td>\n",
              "      <td>...</td>\n",
              "      <td>...</td>\n",
              "      <td>...</td>\n",
              "      <td>...</td>\n",
              "      <td>...</td>\n",
              "      <td>...</td>\n",
              "      <td>...</td>\n",
              "      <td>...</td>\n",
              "      <td>...</td>\n",
              "      <td>...</td>\n",
              "      <td>...</td>\n",
              "      <td>...</td>\n",
              "      <td>...</td>\n",
              "      <td>...</td>\n",
              "      <td>...</td>\n",
              "      <td>...</td>\n",
              "      <td>...</td>\n",
              "      <td>...</td>\n",
              "      <td>...</td>\n",
              "      <td>...</td>\n",
              "      <td>...</td>\n",
              "      <td>...</td>\n",
              "      <td>...</td>\n",
              "      <td>...</td>\n",
              "      <td>...</td>\n",
              "      <td>...</td>\n",
              "      <td>...</td>\n",
              "      <td>...</td>\n",
              "      <td>...</td>\n",
              "      <td>...</td>\n",
              "      <td>...</td>\n",
              "    </tr>\n",
              "    <tr>\n",
              "      <th>215068</th>\n",
              "      <td>1970-01-01 00:16:14.500</td>\n",
              "      <td>3</td>\n",
              "      <td>84.424920</td>\n",
              "      <td>32.625</td>\n",
              "      <td>-1.99794</td>\n",
              "      <td>3.94300</td>\n",
              "      <td>9.15686</td>\n",
              "      <td>-1.98359</td>\n",
              "      <td>3.98135</td>\n",
              "      <td>9.15324</td>\n",
              "      <td>-0.112651</td>\n",
              "      <td>-0.003501</td>\n",
              "      <td>-0.066523</td>\n",
              "      <td>5.73419</td>\n",
              "      <td>-5.42583</td>\n",
              "      <td>-42.8738</td>\n",
              "      <td>0.563901</td>\n",
              "      <td>-0.207501</td>\n",
              "      <td>0.094150</td>\n",
              "      <td>0.793785</td>\n",
              "      <td>35.8125</td>\n",
              "      <td>-0.641883</td>\n",
              "      <td>9.70663</td>\n",
              "      <td>0.773537</td>\n",
              "      <td>-0.772784</td>\n",
              "      <td>9.70857</td>\n",
              "      <td>1.19188</td>\n",
              "      <td>-0.015578</td>\n",
              "      <td>-0.056386</td>\n",
              "      <td>0.010819</td>\n",
              "      <td>3.162950</td>\n",
              "      <td>-27.5180</td>\n",
              "      <td>-10.32630</td>\n",
              "      <td>0.525308</td>\n",
              "      <td>-0.500993</td>\n",
              "      <td>0.431044</td>\n",
              "      <td>0.535965</td>\n",
              "      <td>33.50</td>\n",
              "      <td>9.75545</td>\n",
              "      <td>0.135514</td>\n",
              "      <td>-0.997486</td>\n",
              "      <td>9.79346</td>\n",
              "      <td>0.258045</td>\n",
              "      <td>-0.695134</td>\n",
              "      <td>0.032179</td>\n",
              "      <td>-0.020372</td>\n",
              "      <td>0.024743</td>\n",
              "      <td>-6.70452</td>\n",
              "      <td>-3.10444</td>\n",
              "      <td>22.4968</td>\n",
              "      <td>0.057762</td>\n",
              "      <td>-0.731313</td>\n",
              "      <td>0.043076</td>\n",
              "      <td>-0.678225</td>\n",
              "    </tr>\n",
              "    <tr>\n",
              "      <th>215069</th>\n",
              "      <td>1970-01-01 00:16:14.510</td>\n",
              "      <td>3</td>\n",
              "      <td>84.424920</td>\n",
              "      <td>32.625</td>\n",
              "      <td>-2.00276</td>\n",
              "      <td>4.20689</td>\n",
              "      <td>8.96346</td>\n",
              "      <td>-1.98194</td>\n",
              "      <td>4.19276</td>\n",
              "      <td>9.13768</td>\n",
              "      <td>-0.179092</td>\n",
              "      <td>0.020300</td>\n",
              "      <td>-0.010637</td>\n",
              "      <td>6.30110</td>\n",
              "      <td>-5.46458</td>\n",
              "      <td>-42.4178</td>\n",
              "      <td>0.564480</td>\n",
              "      <td>-0.207308</td>\n",
              "      <td>0.093156</td>\n",
              "      <td>0.793541</td>\n",
              "      <td>35.8125</td>\n",
              "      <td>-0.637607</td>\n",
              "      <td>9.59471</td>\n",
              "      <td>0.928862</td>\n",
              "      <td>-0.757107</td>\n",
              "      <td>9.72350</td>\n",
              "      <td>1.28250</td>\n",
              "      <td>-0.014135</td>\n",
              "      <td>-0.018148</td>\n",
              "      <td>-0.011175</td>\n",
              "      <td>2.829320</td>\n",
              "      <td>-27.7314</td>\n",
              "      <td>-10.20910</td>\n",
              "      <td>0.525328</td>\n",
              "      <td>-0.501001</td>\n",
              "      <td>0.430940</td>\n",
              "      <td>0.536021</td>\n",
              "      <td>33.50</td>\n",
              "      <td>9.82720</td>\n",
              "      <td>0.173972</td>\n",
              "      <td>-1.112760</td>\n",
              "      <td>9.80875</td>\n",
              "      <td>0.333747</td>\n",
              "      <td>-0.634918</td>\n",
              "      <td>0.005479</td>\n",
              "      <td>-0.027020</td>\n",
              "      <td>-0.000598</td>\n",
              "      <td>-7.14370</td>\n",
              "      <td>-3.75086</td>\n",
              "      <td>22.4935</td>\n",
              "      <td>0.058003</td>\n",
              "      <td>-0.731375</td>\n",
              "      <td>0.043148</td>\n",
              "      <td>-0.678133</td>\n",
              "    </tr>\n",
              "    <tr>\n",
              "      <th>215070</th>\n",
              "      <td>1970-01-01 00:16:14.520</td>\n",
              "      <td>3</td>\n",
              "      <td>84.424920</td>\n",
              "      <td>32.625</td>\n",
              "      <td>-1.96042</td>\n",
              "      <td>4.09413</td>\n",
              "      <td>9.11842</td>\n",
              "      <td>-1.90607</td>\n",
              "      <td>4.28280</td>\n",
              "      <td>9.10720</td>\n",
              "      <td>-0.285215</td>\n",
              "      <td>0.010714</td>\n",
              "      <td>-0.017346</td>\n",
              "      <td>5.52123</td>\n",
              "      <td>-5.20185</td>\n",
              "      <td>-42.4060</td>\n",
              "      <td>0.565089</td>\n",
              "      <td>-0.206332</td>\n",
              "      <td>0.092372</td>\n",
              "      <td>0.793454</td>\n",
              "      <td>35.8125</td>\n",
              "      <td>-0.638352</td>\n",
              "      <td>9.74506</td>\n",
              "      <td>0.889639</td>\n",
              "      <td>-0.787279</td>\n",
              "      <td>9.72359</td>\n",
              "      <td>1.26757</td>\n",
              "      <td>-0.001921</td>\n",
              "      <td>0.043723</td>\n",
              "      <td>0.008493</td>\n",
              "      <td>2.830080</td>\n",
              "      <td>-27.7303</td>\n",
              "      <td>-10.33160</td>\n",
              "      <td>0.525482</td>\n",
              "      <td>-0.501139</td>\n",
              "      <td>0.430789</td>\n",
              "      <td>0.535864</td>\n",
              "      <td>33.50</td>\n",
              "      <td>9.82669</td>\n",
              "      <td>0.288199</td>\n",
              "      <td>-1.152060</td>\n",
              "      <td>9.83872</td>\n",
              "      <td>0.273235</td>\n",
              "      <td>-0.650018</td>\n",
              "      <td>0.022575</td>\n",
              "      <td>-0.027370</td>\n",
              "      <td>0.022288</td>\n",
              "      <td>-6.80899</td>\n",
              "      <td>-3.43657</td>\n",
              "      <td>22.8655</td>\n",
              "      <td>0.057858</td>\n",
              "      <td>-0.731457</td>\n",
              "      <td>0.043160</td>\n",
              "      <td>-0.678057</td>\n",
              "    </tr>\n",
              "    <tr>\n",
              "      <th>215071</th>\n",
              "      <td>1970-01-01 00:16:14.530</td>\n",
              "      <td>3</td>\n",
              "      <td>84.424920</td>\n",
              "      <td>32.625</td>\n",
              "      <td>-1.97860</td>\n",
              "      <td>3.78659</td>\n",
              "      <td>8.65734</td>\n",
              "      <td>-1.81742</td>\n",
              "      <td>4.20652</td>\n",
              "      <td>8.97137</td>\n",
              "      <td>-0.347098</td>\n",
              "      <td>0.040476</td>\n",
              "      <td>-0.020536</td>\n",
              "      <td>6.18726</td>\n",
              "      <td>-5.45651</td>\n",
              "      <td>-42.5321</td>\n",
              "      <td>0.565943</td>\n",
              "      <td>-0.205590</td>\n",
              "      <td>0.090876</td>\n",
              "      <td>0.793211</td>\n",
              "      <td>35.8125</td>\n",
              "      <td>-0.632633</td>\n",
              "      <td>9.74636</td>\n",
              "      <td>1.083340</td>\n",
              "      <td>-0.801391</td>\n",
              "      <td>9.79898</td>\n",
              "      <td>1.34344</td>\n",
              "      <td>0.021053</td>\n",
              "      <td>-0.029297</td>\n",
              "      <td>0.012664</td>\n",
              "      <td>2.714200</td>\n",
              "      <td>-27.7298</td>\n",
              "      <td>-9.96564</td>\n",
              "      <td>0.525515</td>\n",
              "      <td>-0.500991</td>\n",
              "      <td>0.431028</td>\n",
              "      <td>0.535778</td>\n",
              "      <td>33.50</td>\n",
              "      <td>9.68320</td>\n",
              "      <td>0.211283</td>\n",
              "      <td>-0.921518</td>\n",
              "      <td>9.82359</td>\n",
              "      <td>0.348820</td>\n",
              "      <td>-0.680451</td>\n",
              "      <td>0.015307</td>\n",
              "      <td>0.010409</td>\n",
              "      <td>0.034440</td>\n",
              "      <td>-7.14634</td>\n",
              "      <td>-3.42308</td>\n",
              "      <td>22.7446</td>\n",
              "      <td>0.057728</td>\n",
              "      <td>-0.731411</td>\n",
              "      <td>0.043200</td>\n",
              "      <td>-0.678115</td>\n",
              "    </tr>\n",
              "    <tr>\n",
              "      <th>215072</th>\n",
              "      <td>1970-01-01 00:16:14.540</td>\n",
              "      <td>3</td>\n",
              "      <td>82.000000</td>\n",
              "      <td>32.625</td>\n",
              "      <td>-2.13484</td>\n",
              "      <td>3.63499</td>\n",
              "      <td>8.54005</td>\n",
              "      <td>-1.88200</td>\n",
              "      <td>3.88965</td>\n",
              "      <td>8.77582</td>\n",
              "      <td>-0.369435</td>\n",
              "      <td>0.036868</td>\n",
              "      <td>0.014151</td>\n",
              "      <td>5.29242</td>\n",
              "      <td>-4.42103</td>\n",
              "      <td>-42.8579</td>\n",
              "      <td>0.566527</td>\n",
              "      <td>-0.204391</td>\n",
              "      <td>0.089744</td>\n",
              "      <td>0.793232</td>\n",
              "      <td>35.8125</td>\n",
              "      <td>-0.825693</td>\n",
              "      <td>9.67113</td>\n",
              "      <td>1.002650</td>\n",
              "      <td>-0.816702</td>\n",
              "      <td>9.79908</td>\n",
              "      <td>1.29819</td>\n",
              "      <td>-0.025435</td>\n",
              "      <td>-0.011678</td>\n",
              "      <td>-0.008402</td>\n",
              "      <td>2.809450</td>\n",
              "      <td>-27.1721</td>\n",
              "      <td>-10.20860</td>\n",
              "      <td>0.525525</td>\n",
              "      <td>-0.501012</td>\n",
              "      <td>0.430853</td>\n",
              "      <td>0.535888</td>\n",
              "      <td>33.50</td>\n",
              "      <td>9.86502</td>\n",
              "      <td>0.249672</td>\n",
              "      <td>-1.112840</td>\n",
              "      <td>9.80874</td>\n",
              "      <td>0.273247</td>\n",
              "      <td>-0.634723</td>\n",
              "      <td>0.010478</td>\n",
              "      <td>-0.033348</td>\n",
              "      <td>0.030078</td>\n",
              "      <td>-6.91601</td>\n",
              "      <td>-3.65667</td>\n",
              "      <td>23.1116</td>\n",
              "      <td>0.057713</td>\n",
              "      <td>-0.731498</td>\n",
              "      <td>0.043344</td>\n",
              "      <td>-0.678013</td>\n",
              "    </tr>\n",
              "  </tbody>\n",
              "</table>\n",
              "<p>215073 rows × 54 columns</p>\n",
              "</div>"
            ],
            "text/plain": [
              "                     timestamp  ... IMU ankle orientation4\n",
              "0      1970-01-01 00:00:37.660  ...               0.000000\n",
              "1      1970-01-01 00:00:37.670  ...               0.000000\n",
              "2      1970-01-01 00:00:37.680  ...               0.000000\n",
              "3      1970-01-01 00:00:37.690  ...               0.000000\n",
              "4      1970-01-01 00:00:37.700  ...               0.000000\n",
              "...                        ...  ...                    ...\n",
              "215068 1970-01-01 00:16:14.500  ...              -0.678225\n",
              "215069 1970-01-01 00:16:14.510  ...              -0.678133\n",
              "215070 1970-01-01 00:16:14.520  ...              -0.678057\n",
              "215071 1970-01-01 00:16:14.530  ...              -0.678115\n",
              "215072 1970-01-01 00:16:14.540  ...              -0.678013\n",
              "\n",
              "[215073 rows x 54 columns]"
            ]
          },
          "metadata": {
            "tags": []
          },
          "execution_count": 18
        }
      ]
    },
    {
      "cell_type": "code",
      "metadata": {
        "colab": {
          "base_uri": "https://localhost:8080/"
        },
        "id": "T4LCWnnq8fys",
        "outputId": "aeffa3cd-8917-4498-f192-9ff7e7c53585"
      },
      "source": [
        "all_data.shape[0]"
      ],
      "execution_count": 56,
      "outputs": [
        {
          "output_type": "execute_result",
          "data": {
            "text/plain": [
              "567642"
            ]
          },
          "metadata": {
            "tags": []
          },
          "execution_count": 56
        }
      ]
    },
    {
      "cell_type": "markdown",
      "metadata": {
        "id": "ZNddMW_mBXD3"
      },
      "source": [
        "Data contain 2872533 sampels. Each of them are mesurment collect among 8 hours from 3 sensors located in diffent places: 1 IMU over the wrist on the dominant arm,1 IMU on the chest, 1 IMU on the dominant side's ankle."
      ]
    },
    {
      "cell_type": "markdown",
      "metadata": {
        "id": "UIBZ3fv2Bdkp"
      },
      "source": [
        "Set timestamp to be index in all datasets"
      ]
    },
    {
      "cell_type": "code",
      "metadata": {
        "id": "8cp1_S5p8qjp"
      },
      "source": [
        "all_data = all_data.set_index('timestamp')\r\n",
        "df_test = df_test.set_index('timestamp')\r\n",
        "df_train = df_train.set_index('timestamp')"
      ],
      "execution_count": 57,
      "outputs": []
    },
    {
      "cell_type": "markdown",
      "metadata": {
        "id": "RzYRDXHnL9oE"
      },
      "source": [
        "We chose to represente three different activities: lying, sitting and standing, to learn about the heart rate according to each activity"
      ]
    },
    {
      "cell_type": "code",
      "metadata": {
        "id": "WpD7Q4P7L-GM"
      },
      "source": [
        "df_lying = all_data[all_data['activityID']==1]\n",
        "df_sitting = all_data[all_data['activityID']==2]\n",
        "df_standing = all_data[all_data['activityID']==3]"
      ],
      "execution_count": 58,
      "outputs": []
    },
    {
      "cell_type": "markdown",
      "metadata": {
        "id": "Dg1jQIKiGPni"
      },
      "source": [
        "We want to see the difference in the heart rate at this three difference activity\r\n"
      ]
    },
    {
      "cell_type": "code",
      "metadata": {
        "id": "z9rkeQLKEWlP",
        "colab": {
          "base_uri": "https://localhost:8080/",
          "height": 336
        },
        "outputId": "c9223690-ff97-4c27-d17e-003f0d15942e"
      },
      "source": [
        "plt.figure(figsize=(7,4))\r\n",
        "df_lying['heart rate'].resample('30s').mean().plot(color='green',label=\"lying\")\r\n",
        "df_sitting['heart rate'].resample('30s').mean().plot(color='blue',label=\"sitting\")\r\n",
        "df_standing['heart rate'].resample('30s').mean().plot(color='red',label=\"standing\")\r\n",
        "plt.legend()\r\n",
        "plt.xlabel(\"Timestamp\")\r\n",
        "plt.ylabel(\"Heart rate\")\r\n",
        "plt.title(\"Heart rate resampled over 30 secondes for mean:\\n\")\r\n",
        "plt.show()"
      ],
      "execution_count": 117,
      "outputs": [
        {
          "output_type": "display_data",
          "data": {
            "image/png": "[encoded data removed]",
            "text/plain": [
              "<Figure size 504x288 with 1 Axes>"
            ]
          },
          "metadata": {
            "tags": []
          }
        }
      ]
    },
    {
      "cell_type": "markdown",
      "metadata": {
        "id": "tBHwTl4SMGrn"
      },
      "source": [
        "As we can see, as we expected in standing activity heart rate are increment over time not like lying and sitting activities, that heart rate coming down."
      ]
    },
    {
      "cell_type": "markdown",
      "metadata": {
        "id": "KKzr0sr4Epsq"
      },
      "source": [
        "Now, we chose to represent three different activities to learn about the temperature according to each activity.\r\n"
      ]
    },
    {
      "cell_type": "code",
      "metadata": {
        "id": "-MOCbiZsMOG7",
        "colab": {
          "base_uri": "https://localhost:8080/",
          "height": 315
        },
        "outputId": "e9f5230e-2ebd-4863-fd06-dd7c97ab2174"
      },
      "source": [
        "plt.figure(figsize=(7,4))\n",
        "df_lying['IMU hand temperature'].resample('30s').mean().plot(color='r',legend=True)\n",
        "df_lying['IMU chest temperature'].resample('30s').mean().plot(color='y',legend=True)\n",
        "df_lying['IMU ankle temperature'].resample('30s').mean().plot(color='g',legend=True)\n",
        "plt.title('Temperature resampled over 30 secondes for mean on lying')\n",
        "plt.show() "
      ],
      "execution_count": 114,
      "outputs": [
        {
          "output_type": "display_data",
          "data": {
            "image/png": "[encoded data removed]",
            "text/plain": [
              "<Figure size 504x288 with 1 Axes>"
            ]
          },
          "metadata": {
            "tags": []
          }
        }
      ]
    },
    {
      "cell_type": "code",
      "metadata": {
        "colab": {
          "base_uri": "https://localhost:8080/",
          "height": 315
        },
        "id": "3x1Vj9SJ0TM_",
        "outputId": "9fd7fade-9b24-40b8-e571-04a8c777752d"
      },
      "source": [
        "plt.figure(figsize=(7,4))\r\n",
        "df_sitting['IMU hand temperature'].resample('30s').mean().plot(color='r',legend=True)\r\n",
        "df_sitting['IMU chest temperature'].resample('30s').mean().plot(color='y',legend=True)\r\n",
        "df_sitting['IMU ankle temperature'].resample('30s').mean().plot(color='g',legend=True)\r\n",
        "plt.title('Temperature resampled over 30 secondes for mean on sitting')\r\n",
        "plt.show()"
      ],
      "execution_count": 115,
      "outputs": [
        {
          "output_type": "display_data",
          "data": {
            "image/png": "[encoded data removed]",
            "text/plain": [
              "<Figure size 504x288 with 1 Axes>"
            ]
          },
          "metadata": {
            "tags": []
          }
        }
      ]
    },
    {
      "cell_type": "code",
      "metadata": {
        "colab": {
          "base_uri": "https://localhost:8080/",
          "height": 315
        },
        "id": "Q3vW9vpf0Thz",
        "outputId": "dbdbaa15-ada8-4bf8-84cc-670823bcf518"
      },
      "source": [
        "plt.figure(figsize=(7,4))\r\n",
        "df_standing['IMU hand temperature'].resample('30s').mean().plot(color='r',legend=True)\r\n",
        "df_standing['IMU chest temperature'].resample('30s').mean().plot(color='y',legend=True)\r\n",
        "df_standing['IMU ankle temperature'].resample('30s').mean().plot(color='g',legend=True)\r\n",
        "plt.title('Temperature resampled over 30 secondes for mean on standing')\r\n",
        "plt.show()"
      ],
      "execution_count": 116,
      "outputs": [
        {
          "output_type": "display_data",
          "data": {
            "image/png": "[encoded data removed]",
            "text/plain": [
              "<Figure size 504x288 with 1 Axes>"
            ]
          },
          "metadata": {
            "tags": []
          }
        }
      ]
    },
    {
      "cell_type": "markdown",
      "metadata": {
        "id": "m0BYVDvSE5gJ"
      },
      "source": [
        "**Our naive solution:**"
      ]
    },
    {
      "cell_type": "markdown",
      "metadata": {
        "id": "aX_2jGOQBreJ"
      },
      "source": [
        "We normalized all data between 0-1 to improve results."
      ]
    },
    {
      "cell_type": "code",
      "metadata": {
        "id": "BpOabhFPBpDT"
      },
      "source": [
        "def normalizeData(data):\r\n",
        "  mean = np.mean(data).values[0]\r\n",
        "  std = np.std(data).values[0]\r\n",
        "  data = (data - mean)/std\r\n",
        "  return data"
      ],
      "execution_count": 83,
      "outputs": []
    },
    {
      "cell_type": "markdown",
      "metadata": {
        "id": "0nyc4RkkxoV5"
      },
      "source": [
        "#**KNN**"
      ]
    },
    {
      "cell_type": "markdown",
      "metadata": {
        "id": "hypRmm9JBuhb"
      },
      "source": [
        "As a naive solution, we decide to use k nearest neighbors classifier, using only the most important columns to avoid long run time."
      ]
    },
    {
      "cell_type": "code",
      "metadata": {
        "id": "lV9rXOaXBt7q"
      },
      "source": [
        "y_train = df_train['activityID']\r\n",
        "x_train = df_train[naive_columns]\r\n",
        "y_train = y_train.astype('int')\r\n",
        "\r\n",
        "y_test = df_test['activityID']\r\n",
        "x_test = df_test[naive_columns]"
      ],
      "execution_count": 84,
      "outputs": []
    },
    {
      "cell_type": "code",
      "metadata": {
        "id": "nFlU9N8TBzma"
      },
      "source": [
        "scaler = StandardScaler()\r\n",
        "scaler.fit(x_train)\r\n",
        "x_train = scaler.transform(x_train)\r\n",
        "x_test = scaler.transform(x_test)"
      ],
      "execution_count": 85,
      "outputs": []
    },
    {
      "cell_type": "code",
      "metadata": {
        "id": "INzFCqWtB18J",
        "colab": {
          "base_uri": "https://localhost:8080/"
        },
        "outputId": "9aadc83c-21b5-45fa-e20c-320a10956821"
      },
      "source": [
        "knn = KNeighborsClassifier(n_neighbors=5,metric='euclidean')\r\n",
        "knn.fit(x_train,y_train)"
      ],
      "execution_count": 86,
      "outputs": [
        {
          "output_type": "execute_result",
          "data": {
            "text/plain": [
              "KNeighborsClassifier(algorithm='auto', leaf_size=30, metric='euclidean',\n",
              "                     metric_params=None, n_jobs=None, n_neighbors=5, p=2,\n",
              "                     weights='uniform')"
            ]
          },
          "metadata": {
            "tags": []
          },
          "execution_count": 86
        }
      ]
    },
    {
      "cell_type": "code",
      "metadata": {
        "id": "7GVxtmy5B4HD"
      },
      "source": [
        "y_pred = knn.predict(x_test)"
      ],
      "execution_count": 87,
      "outputs": []
    },
    {
      "cell_type": "code",
      "metadata": {
        "id": "GfLMgfrMB6dV"
      },
      "source": [
        "y_test = y_test.astype('int')"
      ],
      "execution_count": 89,
      "outputs": []
    },
    {
      "cell_type": "code",
      "metadata": {
        "id": "0oqdyqj5B9Sg",
        "colab": {
          "base_uri": "https://localhost:8080/"
        },
        "outputId": "2cfac606-4707-4010-96f9-4119f56f5b72"
      },
      "source": [
        "print('model accuracy on test set is: {}%'.format(accuracy_score(y_test,y_pred)*100))"
      ],
      "execution_count": 90,
      "outputs": [
        {
          "output_type": "stream",
          "text": [
            "model accuracy on test set is: 97.68556344667212%\n"
          ],
          "name": "stdout"
        }
      ]
    },
    {
      "cell_type": "markdown",
      "metadata": {
        "id": "U2gtRH1xCCwx"
      },
      "source": [
        "#**Random Forest Classidfier**"
      ]
    },
    {
      "cell_type": "markdown",
      "metadata": {
        "id": "dPp99ddVFLGb"
      },
      "source": [
        "Machine Learning - we choose to classify with Random Forest Classifier because this algorithm is fast we choose using all features."
      ]
    },
    {
      "cell_type": "code",
      "metadata": {
        "id": "g_WyZzvAFP-X",
        "colab": {
          "base_uri": "https://localhost:8080/",
          "height": 182
        },
        "outputId": "516f384a-033d-4e7d-bcd3-439af8ac13c5"
      },
      "source": [
        "print(\"Here we present how many records we have in train from each activity\")\r\n",
        "train_outcome = pd.crosstab(index=df_train[\"activityID\"],columns=\"count\") \r\n",
        "train_outcome"
      ],
      "execution_count": 91,
      "outputs": [
        {
          "output_type": "stream",
          "text": [
            "Here we present how many records we have in train from each activity\n"
          ],
          "name": "stdout"
        },
        {
          "output_type": "execute_result",
          "data": {
            "text/html": [
              "<div>\n",
              "<style scoped>\n",
              "    .dataframe tbody tr th:only-of-type {\n",
              "        vertical-align: middle;\n",
              "    }\n",
              "\n",
              "    .dataframe tbody tr th {\n",
              "        vertical-align: top;\n",
              "    }\n",
              "\n",
              "    .dataframe thead th {\n",
              "        text-align: right;\n",
              "    }\n",
              "</style>\n",
              "<table border=\"1\" class=\"dataframe\">\n",
              "  <thead>\n",
              "    <tr style=\"text-align: right;\">\n",
              "      <th>col_0</th>\n",
              "      <th>count</th>\n",
              "    </tr>\n",
              "    <tr>\n",
              "      <th>activityID</th>\n",
              "      <th></th>\n",
              "    </tr>\n",
              "  </thead>\n",
              "  <tbody>\n",
              "    <tr>\n",
              "      <th>1</th>\n",
              "      <td>72661</td>\n",
              "    </tr>\n",
              "    <tr>\n",
              "      <th>2</th>\n",
              "      <td>74586</td>\n",
              "    </tr>\n",
              "    <tr>\n",
              "      <th>3</th>\n",
              "      <td>67826</td>\n",
              "    </tr>\n",
              "  </tbody>\n",
              "</table>\n",
              "</div>"
            ],
            "text/plain": [
              "col_0       count\n",
              "activityID       \n",
              "1           72661\n",
              "2           74586\n",
              "3           67826"
            ]
          },
          "metadata": {
            "tags": []
          },
          "execution_count": 91
        }
      ]
    },
    {
      "cell_type": "code",
      "metadata": {
        "id": "Z39nyerICAOu",
        "colab": {
          "base_uri": "https://localhost:8080/"
        },
        "outputId": "14bcd75e-3567-4a64-bbeb-ce64e7aea362"
      },
      "source": [
        "rfc = RandomForestClassifier(max_depth=2, random_state=0)\r\n",
        "rfc.fit(x_train,y_train)"
      ],
      "execution_count": 92,
      "outputs": [
        {
          "output_type": "execute_result",
          "data": {
            "text/plain": [
              "RandomForestClassifier(bootstrap=True, ccp_alpha=0.0, class_weight=None,\n",
              "                       criterion='gini', max_depth=2, max_features='auto',\n",
              "                       max_leaf_nodes=None, max_samples=None,\n",
              "                       min_impurity_decrease=0.0, min_impurity_split=None,\n",
              "                       min_samples_leaf=1, min_samples_split=2,\n",
              "                       min_weight_fraction_leaf=0.0, n_estimators=100,\n",
              "                       n_jobs=None, oob_score=False, random_state=0, verbose=0,\n",
              "                       warm_start=False)"
            ]
          },
          "metadata": {
            "tags": []
          },
          "execution_count": 92
        }
      ]
    },
    {
      "cell_type": "code",
      "metadata": {
        "id": "wYiH7HFYCSEa"
      },
      "source": [
        "y_pred = rfc.predict(x_test)"
      ],
      "execution_count": 93,
      "outputs": []
    },
    {
      "cell_type": "code",
      "metadata": {
        "id": "yhRtyc-ACUa3",
        "colab": {
          "base_uri": "https://localhost:8080/"
        },
        "outputId": "a562bc96-cf0d-4276-f22f-8160e387ceb0"
      },
      "source": [
        "y_pred"
      ],
      "execution_count": 94,
      "outputs": [
        {
          "output_type": "execute_result",
          "data": {
            "text/plain": [
              "array([1, 1, 1, ..., 3, 3, 3])"
            ]
          },
          "metadata": {
            "tags": []
          },
          "execution_count": 94
        }
      ]
    },
    {
      "cell_type": "code",
      "metadata": {
        "id": "ql8mCMICCdio",
        "colab": {
          "base_uri": "https://localhost:8080/"
        },
        "outputId": "48e5a249-f894-401c-dfe6-d1fbe68bd2ea"
      },
      "source": [
        "print('model accuracy on test set is: {}%'.format(accuracy_score(y_test,y_pred)*100))"
      ],
      "execution_count": 95,
      "outputs": [
        {
          "output_type": "stream",
          "text": [
            "model accuracy on test set is: 97.45616240336874%\n"
          ],
          "name": "stdout"
        }
      ]
    },
    {
      "cell_type": "code",
      "metadata": {
        "id": "H2sdxQiiCfuu"
      },
      "source": [
        "cm = confusion_matrix(y_test, y_pred, normalize= 'true')"
      ],
      "execution_count": 96,
      "outputs": []
    },
    {
      "cell_type": "code",
      "metadata": {
        "id": "yza_8FriChse",
        "colab": {
          "base_uri": "https://localhost:8080/",
          "height": 436
        },
        "outputId": "4bd0e53b-e055-4232-96f4-f94d593d4ffb"
      },
      "source": [
        "df_cm = pd.DataFrame(cm, range(3), range(3))\r\n",
        "plt.figure(figsize=(10,7))\r\n",
        "sn.set(font_scale=1.4) # for label size\r\n",
        "sn.heatmap(df_cm, annot=True, annot_kws={\"size\": 16}) # font size\r\n",
        "plt.show()"
      ],
      "execution_count": 97,
      "outputs": [
        {
          "output_type": "display_data",
          "data": {
            "image/png": "[encoded data removed]",
            "text/plain": [
              "<Figure size 720x504 with 2 Axes>"
            ]
          },
          "metadata": {
            "tags": []
          }
        }
      ]
    }
  ]
}