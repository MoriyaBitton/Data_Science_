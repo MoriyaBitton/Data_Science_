{
 "cells": [
  {
   "cell_type": "markdown",
   "metadata": {},
   "source": [
    "**Part 1:**\n",
    "\n",
    "**Probability:**"
   ]
  },
  {
   "cell_type": "markdown",
   "metadata": {},
   "source": [
    "**Question 1.A:**\n",
    "\n",
    "approximately $\\frac{1}{125}$ of the births are non-identical twins and $\\frac{1}{300}$ of the births are identical twins. Elvis had a twin brother who died at birth. What is the probability that Elvis was an identical twin? (we can assume the probability of boy vs girl births is identical: $\\frac{1}{2}$)"
   ]
  },
  {
   "cell_type": "markdown",
   "metadata": {},
   "source": [
    "**Answer:** \n",
    "\n",
    "We shall use the Bayes' theorem to provide an answer.\n",
    "Bayes' theorem states:$$ P(A|B) = \\frac{P(B|A) \\times P(A) }{P(B)} $$\n",
    "Let us define $A$ and $B$ for future reference:\n",
    "\n",
    "$A$: The probability that the twins are identical boys.\n",
    "\n",
    "$B$: The probability for twin boys (both identical and non-identical).\n",
    "\n",
    "$P(A|B)$ is the value we want to find as the answer to the question posed (given twins, what is the probability that they are identical).\n",
    "\n",
    "\n",
    "$ P_{identicalBoys} $ - The probability of identical twins boys is a quarter of the probability of identical twins (boys and girls) - using the allowable assumption in the question. \n",
    "\n",
    "$$ P_{identicalBoys} = \\frac{1}{300} \\times \\frac{1}{2} \\times \\frac{1}{2}= \\frac{1}{1200} $$\n",
    "\n",
    "$ P_{nonIdenticalBoys} $ - The probability of non-identical boy twins is the probability of the first child being born a boy times the probability of the second child being born a boy. \n",
    "\n",
    "$$ P_{nonIdenticalBoys} = \\frac{1}{125} \\times \\frac{1}{2} \\times \\frac{1}{2} = \\frac{1}{500} $$\n",
    "\n",
    "$P(B)$ is the sum of the 2 possibilities of twin boys (identical and non-identical)\n",
    "$$ P(B) = \\frac{1}{1200} + \\frac{1}{500} = \\frac{17}{6000} $$$P(A)$ is according to the given value of the probability for identical twins times the probability of the children to be boys ($ \\frac{1}{2} $)$$ P(A) = P_{identicalBoys} = \\frac{1}{600} $$$P(B|A)$ is the probability that there are boy twins given the boy twins are identical (obvious answer - 1, because all identical twins are twins, also all identical boy twins are boy twins)$$ P(B|A) = 1 $$We can build the equation according to Bayes' theorem and answer the question:$$ P(A|B) = \\frac{1 \\times \\frac{1}{1200} }{\\frac{17}{6000}} = \\frac{6000}{17 \\times 1200} = \\frac{5}{17} = 0.29411 $$\n",
    "\n",
    "**Final Answer:** The probability that Elvis was an identical twin is $ 0.29411 $"
   ]
  },
  {
   "cell_type": "markdown",
   "metadata": {},
   "source": [
    "**Question 1.B:**\n",
    "\n",
    "There are 2 jars of cookies. The first jar contains 10 almond cookies and 30 chocolate ones, the second: 20 almond cookies and 20 chocolate ones. Arik chose a jar at random and a cookie from that jar at random. The chosen cookie turned out to be chocolate. What is the probability that Arik chose the first jar?"
   ]
  },
  {
   "cell_type": "markdown",
   "metadata": {},
   "source": [
    "**Answer:**\n",
    "\n",
    "We shall use the Bayes' theorem to provide an answer.\n",
    "Bayes' theorem states:$$ P(A|B) = \\frac{P(B|A) \\times P(A) }{P(B)} $$\n",
    "Let us define $A$ and $B$ for future reference:\n",
    "\n",
    "$P(A)$: The probability to choose the first jar.\n",
    "\n",
    "$P(B)$: The probability to chose a chocolate cookie, in general.\n",
    "\n",
    "$P(A|B)$ is the value we want to find as the answer to the question posed (given a chocolate cookie was chosen, what is the probability that Arik chose the first cookie jar)\n",
    "\n",
    "\n",
    "$P(B)$: The probability for choosing a chocolate cookie in general is the sum of probabilitis of choosing chocolate cookie from the first jar or the second jar $$P(B) = (\\frac{1}{2} \\times \\frac{30}{40}) + (\\frac{1}{2} \\times \\frac{20}{40}) = \\frac{30}{80} + \\frac{20}{80} = \\frac{50}{80} = \\frac{5}{8} $$$P(A)$: The probability for choosing the first jar:$$P(A) = \\frac{1}{2}$$$P(B|A)$: The probability of choosing a chocolate cookie given the first jar was chosen. $$ P(B|A) = \\frac{P(A) \\cap P(B)}{P(A)} $$\n",
    "$ P(A) \\cap P(B)$: The probability of choosing the A (first jar) and B (chocolate cookie):$$ P(A) \\cap P(B) = \\frac{1}{2} \\times \\frac{3}{4} = \\frac{3}{8} $$$$ P(B|A) = \\frac{\\frac{3}{8}}{\\frac{1}{2}} = \\frac{6}{8} = \\frac{3}{4} $$We can build the equation according to Bayes' theorem and answer the question:\n",
    "$$ P(A|B) = \\frac{\\frac{3}{4} \\times \\frac{1}{2} }{\\frac{5}{8}} = \\frac{\\frac{3}{8}}{\\frac{5}{8}} = \\frac{3}{5} $$\n",
    "\n",
    "**Final Answer:** The probability that Arik chose the first jar when it is known that the cookie chosen was chocolate is 0.6"
   ]
  },
  {
   "cell_type": "markdown",
   "metadata": {},
   "source": [
    "**Question 2:**\n",
    "\n",
    "In 1995, the \"M&M\" company added the color blue. Before that year, the distribution of colors in a single M&M bag was as follows:\n",
    "\n",
    "30% Brown, 20% Yellow, 20% Red, 10% Green, 10% Orange, 10% Tan\n",
    "\n",
    "Since 1995, the distribution of colors in a single M&M bag has changed and became:\n",
    "\n",
    "24% Blue, 20% Green, 16% Orange, 14% Yellow, 13% Red, 13% Brown\n",
    "\n",
    "Your friend has 2 bags of M&M, one from 1994 and one from 1996 and he is refusing to tell you which one is which. Despite that, he gives you a single candy from each bag. One turns out to be yellow, the other one: green. What are the chances that the yellow candy came from the bag of 1994?"
   ]
  },
  {
   "cell_type": "markdown",
   "metadata": {},
   "source": [
    "**Answer:**\n",
    "\n",
    "We shall use the Bayes' theorem to provide an answer.\n",
    "Bayes' theorem states:$$ P(A|B) = \\frac{P(B|A) \\times P(A) }{P(B)} $$\n",
    "Let us define $A$ and $B$ for future reference:\n",
    "\n",
    "$P(A)$: The probability that we chose yellow candy from the 1994 bag and green candy from the 1996 bag.\n",
    "\n",
    "$P(B)$: The probability that we chose two candy yellow and green.\n",
    "\n",
    "$P(A|B)$ is the value we want to find as the answer to the question posed.\n",
    "\n",
    "\n",
    "$P(A)$: The probability of chose yellow candy from 1994 bag and green candy from 1996 bag:$$ P(A) = \\frac{20}{100} \\times \\frac{1}{2} \\times \\frac{20}{100} \\times \\frac{1}{2} = \\frac{1}{100} $$$P(B)$: The probability of chose yellow candy from 1994 bag and green candy from 1996 bag or we chose yellow candy from 1996 bag and green candy from 1994 bag:\n",
    "\n",
    "$$ P_{yellow 1994} = \\frac{1}{2} \\times \\frac{20}{100} = \\frac{1}{2} \\times \\frac{1}{5} = \\frac{1}{10} $$\n",
    "$$ P_{yellow 1996} = \\frac{1}{2} \\times \\frac{14}{100} = \\frac{7}{100} $$\n",
    "$$ P_{green 1994} = \\frac{1}{2} \\times \\frac{10}{100} = \\frac{1}{2} \\times \\frac{1}{10} = \\frac{1}{20} $$\n",
    "$$ P_{green 1996} = \\frac{1}{2} \\times \\frac{20}{100} = \\frac{1}{10} $$\n",
    "$$ P(B) = P_{yellow 1994} \\times P_{green 1996} + P_{yellow 1996} \\times P_{green 1994} = \\frac{1}{10} \\times \\frac{1}{10} + \\frac{7}{100} \\times \\frac{1}{20} = \\frac{1}{100} + \\frac{7}{2000} = \\frac{27}{2000} $$\n",
    "\n",
    "$P(B|A)$: chose yellow candy from 1994 bag and green candy from 1996 bag or we chose yellow candy from 1996 bag and green candy from 1994 bag given we chose yellow candy from 1994 bag and green candy from 1996 bag:$$ P(B|A) = 1 $$\n",
    "\n",
    "\n",
    "We can build the equation according to Bayes' theorem and answer the question:\n",
    "$$ P(A|B) = \\frac{{1} \\times \\frac{1}{100}}{\\frac{27}{2000}} = \\frac{2000}{27 \\times 100} = \\frac{2000}{2700} = \\frac{20}{27} = 0.74074 $$\n",
    "\n",
    "**Final Answer:** The probability the yellow candy my friend gave me was from the bag of 1994 is 0.74074, that is $\\frac{20}{27}$"
   ]
  },
  {
   "cell_type": "markdown",
   "metadata": {},
   "source": [
    "**Question 3:**\n",
    "\n",
    "You went to a doctor due to an ingrown nail. The doctor randomly chose you for a blood analysis that checks for the Swine flu. Statistically, it is known that this flu affects 1 of 10000 people. The blood analysis is accurate 99% of the time, with 1% being a false positive outcome, meaning the analysis identifies a healthy person as sick in 1% of all cases. The probability for a false negative outcome is 0, meaning there is no chance a sick person will be identified by the analysis as healthy. You were positive for the Swine flu.\n",
    "\n",
    "**A.** What is the probability that you are sick with the Swine flu?\n",
    "\n",
    "**B.** Assume you lately came back from Thailand and you know that 1 of every 200 people coming back from Thailand came back with Swine flu. Given the same situation as in question 3.a, what is the probability (corrected) that you have the Swine flu?"
   ]
  },
  {
   "cell_type": "markdown",
   "metadata": {},
   "source": [
    "**3.A - Answer:**\n",
    "\n",
    "We shall use the Bayes' theorem to provide an answer.\n",
    "Bayes' theorem states:$$ P(A|B) = \\frac{P(B|A) \\times P(A) }{P(B)} $$\n",
    "Let us define $P(A)$ and $P(B)$ for future reference:\n",
    "\n",
    "$P(A)$: The probability that you are sick.\n",
    "\n",
    "$P(B)$: The probability that the blood analysis came back positive.\n",
    "\n",
    "$P(A|B)$ is the value we want to find as the answer to the question posed (given the blood analysis came back positive for the Swine flu, what is the probability that you are sick).\n",
    "\n",
    "\n",
    "$P(A)$: The probability for you to be sick:$$ P(A) = \\frac{1}{10000} $$\n",
    "\n",
    "Conversely, the probability that you are healthy is:\n",
    "$$P_{Healthy} = 1 - \\frac{1}{10000} = \\frac{9999}{10000}$$\n",
    "\n",
    "\n",
    "$P(B|A)$: given you are sick, what is the probability that the blood analysis will come back positive, according to the question there are no false negatives. $$ P(B|A) = 1 $$\n",
    "\n",
    "$P(B)$: The probability for the blood analysis to come back positive is the sum of the 2 options: you are sick and the analysis came back positive and that you are healthy and the analysis false and came back positive.\n",
    "The equation we will build is:\n",
    "\n",
    "$P(B) = $ (the probability that you are sick) $\\times$ (the probability that the result is positive given you are sick) $+$ (the probability that you are healthy) $\\times$ (the probability that the result is positive given you are healthy):\n",
    "\n",
    "$$ P(B) = (P(A) \\times P(B|A)) + (P_{Healthy} \\times 0.01) = (\\frac{1}{10000} \\times 1) + (\\frac{9999}{10000} \\times 0.01) = \\frac{1}{10000} + 0.009999 = 0.010099 $$\n",
    "\n",
    "\n",
    "We can build the equation according to Bayes' theorem and answer the question:\n",
    "$$ P(A|B) = \\frac{1 \\times \\frac{1}{10000}}{0.010099} = \\frac{1}{0.010099 \\times 10000} = \\frac{1}{100.9} = 0.0099 $$\n",
    "\n",
    "**Final Answer:** The probability that you are sick with the Swine flu is 0.0099"
   ]
  },
  {
   "cell_type": "markdown",
   "metadata": {},
   "source": [
    "**3.B - Answer:**\n",
    "\n",
    "In this given situation as specified in the question, the only thing changing is the group of people you belong to: \n",
    "whereas before you belonged to the general population where the chance of being sick with the flu is $\\frac{1}{10000}$, now it is said that you returned from Thailand recently, and for people coming from there, the probability of being sick with the Swine flu is $\\frac{1}{200}$. Let us change the probabilities accordingly (explanations will not be written in full, due to them being identical to the first section).\n",
    "\n",
    "\n",
    "$P(A)$: The probability for you to be sick:$$ P(A) = \\frac{1}{200} $$\n",
    "Conversely, the probability that you are healthy is:\n",
    "$$P_{Healthy} = 1 - \\frac{1}{200} = \\frac{199}{200}$$\n",
    "$P(B|A)$: This value shall remain uncahnged, due to no changes being made to it in this section:$$ P(B|A) = 1 $$\n",
    "\n",
    "$$ P(B) = (P(A) \\times P(B|A)) + (P_{Healthy} \\times 0.01) = (\\frac{1}{200} \\times 1) + (\\frac{199}{200} \\times 0.01) = \\frac{1}{200} + \\frac{199}{20000} = \\frac{299}{20000} = 0.01495 $$\n",
    "\n",
    "$$ P(A|B) = \\frac{P(B|A) \\times P(A) }{P(B)} = \\frac{{1} \\times \\frac{1}{200}}{\\frac{299}{20000}} = \\frac{20000}{200 \\times 299} = 0.3333 $$\n",
    "\n",
    "**Final Answer:** The probability that you are sick with the Swine flu is 0.3333"
   ]
  },
  {
   "cell_type": "markdown",
   "metadata": {},
   "source": [
    "**Random Variables:**\n"
   ]
  },
  {
   "cell_type": "markdown",
   "metadata": {},
   "source": [
    "**Question 1:**\n",
    "\n",
    "Roi is playing a dice game with Yael. Roi will roll 2 six-sided dice, and if the sum of the dice is divisible by 3, he will win 6 dollars. If the sum is not divisible by 3, he will lose 3 dollars. What is Roi’s expected value of playing this game?"
   ]
  },
  {
   "cell_type": "markdown",
   "metadata": {},
   "source": [
    "**Answer:**\n",
    "\n",
    "Let's consider all the possibilities for the result when the sum of the dice is divided by 3:\n",
    "\n",
    "{3, 6, 9, 12}\n",
    "\n",
    "which means 4 options total.\n",
    "\n",
    "for all of the other options, the sum of the result is not divisible by 3, which means 8 options.\n",
    "\n",
    "Notice that in each such set of values, there 4 option that the result is divisible by 3, hence out of all 12 possible results of the sum: $\\frac{1}{3}$ of them are divisible by 3.\n",
    "\n",
    "\n",
    "To calculate the expected average profit/loss from such a game, we have to add the 2 probabilities multiplied by the winnings/losings in each option. Let's write all available information: $P_{win} = \\frac{1}{3}$\n",
    "$P_{lose} = \\frac{2}{3}$\n",
    "$P_{+atWin} = 6$ dollars\n",
    "$P_{+atLoss} = -3$ dollars\n",
    "\n",
    "Lets build the equation:$$ (P_{win} \\times P_{+atWin}) + (P_{lose} \\times P_{+atLoss}) = (\\frac{1}{3} \\times 6) + (\\frac{2}{3} \\times -3) = \\frac{6}{3} + (-\\frac{6}{3}) = 2 - 2 = 0 $$\n",
    "\n",
    "**Final Answer:** The expected value of playing said game is 0, meaning on average he will neither lose nor win any money."
   ]
  },
  {
   "cell_type": "markdown",
   "metadata": {},
   "source": [
    "**Question 2:**\n",
    "\n",
    "Sharon has challenged Alex to a round of Marker Mixup. Marker Mixup is a game where there is a bag of 5 red markers numbered 1 through 5, and another bag with 5 green markers numbered 6 through 10. Alex will grab 1 marker from each bag, and if the 2 markers add up to more than 12, he will win 5 dollars, If the sum is exactly 12, he will break even, and If the sum is less than 12, he will lose 6 dollars. What is Alex's expected value of playing Marker Mixup?"
   ]
  },
  {
   "cell_type": "markdown",
   "metadata": {},
   "source": [
    "**Answer:**\n",
    "\n",
    "we chose 2 random numbers, the first between 1 and 5, the second between 6 and 10, sum the two numbers, and we have to calculate the expected value of playing such a game as specified in the question.\n",
    "Let's Write possible options of markers to choose from:\n",
    "\n",
    "lower then 12 : <1, 6>, <1, 7>, <1, 8>, <1, 9>, <1, 10>, <2, 6>, <2, 7>, <2, 8>, <2, 9>, <3, 6>, <3, 7>, <3, 8>, <4, 6>, <4, 7>, <5, 6>\n",
    "\n",
    "equal to 12 : <2, 10>, <3, 9>, <4, 8>, <5, 7>\n",
    "\n",
    "bigger then 12: <3, 10>, <4, 9>, <4, 10>, <5, 8>, <5, 9>, <5, 10>\n",
    "\n",
    "In total, there are 25 options of choosing (each with an equal probability of being chosen). Of those, 6 results in a win, 4 results in a draw, and the remaining 15 results in a loss. Hence we can define the probabilities of a win, a draw, and a loss:\n",
    "$P_{win} = \\frac{6}{25} $\n",
    "$P_{draw} = \\frac{4}{25} $\n",
    "$P_{loss} = \\frac{15}{25} = \\frac{3}{5} $\n",
    "\n",
    "$P_{+atWin} = 5$ dollars\n",
    "$P_{+atDraw} = 0$ dollars\n",
    "$P_{+atLoss} = -6$ dollars\n",
    "\n",
    "\n",
    "Let's build the equation required: to calculate the expected average profit/loss from such a game, we have to add the 2 probabilities multiplied by the winnings/closings in each option:$$ (P_{win} \\times P_{+atWin}) + (P_{draw} \\times P_{+atDraw}) + (P_{loss} \\times P_{+atLoss}) = (\\frac{6}{25} \\times 5) + (\\frac{4}{25} \\times 0) + (\\frac{3}{5} \\times (-6)) = \\frac{30}{25} - \\frac{18}{5} = \\frac{6}{5} - \\frac{18}{5} = - \\frac{12}{5} = -2.4$$\n",
    "\n",
    "**Final Answer:** The expected value of playing said the game is -2.40 dollars, meaning that on average, while playing Marker Mixup, Alex will lose 2.40 dollars."
   ]
  },
  {
   "cell_type": "markdown",
   "metadata": {},
   "source": [
    "**Question 3:**\n",
    "\n",
    "A division of a company has 200 employees, 40%, percent of which are male. Each month, the company randomly selects 8 of these employees to have lunch with the CEO. What are the mean and standard deviation of the number of males selected each month?"
   ]
  },
  {
   "cell_type": "markdown",
   "metadata": {},
   "source": [
    "**Answer:**\n",
    "\n",
    "As 40% of all employees are male, it stands to reason that 8 randomly chosen people out of the 200 will have the same percentage as the whole. Hence we can calculate:\n",
    "$$ 8 \\times 0.4 = 3.2 $$So, the true mean (average) of male employees chosen each month is 3.2.\n",
    "\n",
    "\n",
    "**Final Answer:** The mean (average) of the number of chosen men is $3.2$"
   ]
  },
  {
   "cell_type": "markdown",
   "metadata": {},
   "source": [
    "**Question 4:**\n",
    "\n",
    "Different dealers may sell the same car for different prices. The sale prices for a particular car are normally distributed with a mean and standard deviation of 26,000 dollars and 2,000 dollars, respectively. Suppose we select one of these cars at random. Let X = the sale price (in thousands of dollars) for the selected car. Find P(26 < X < 30)"
   ]
  },
  {
   "attachments": {
    "download.png": {
     "image/png": "[encoded data removed]"
    }
   },
   "cell_type": "markdown",
   "metadata": {},
   "source": [
    "**Answer**\n",
    "\n",
    "![download.png](attachment:download.png)\n",
    "Base on the probability distribution table, we can see:\n",
    "$$P(26 < X < 30) = P(\\mu < X < 2 \\times \\sigma) = P(\\mu < X < \\mu + \\sigma) + P(\\mu + \\sigma < X < \\mu + 2 \\times \\sigma) = 0.341 + 0.136 = 0.477 $$\n",
    "\n",
    "**Final Answer:** The probability of X between 26 to 30 is: 0.477"
   ]
  },
  {
   "cell_type": "markdown",
   "metadata": {},
   "source": [
    "**Question 5:**\n",
    "\n",
    "Given the following distribution (a graph is shown), what is P(x>3)?"
   ]
  },
  {
   "cell_type": "markdown",
   "metadata": {},
   "source": [
    "**Answer:**\n",
    "\n",
    "The graph presented is drawing a triangle, with its tip being at $x = 3$, from where we have to answer the question. The is (put more understandably), is we were to point a finger anywhere inside the graph, what is the probability of us pointing inside the smaller triangle with the points of it being (3,0.4), (5,0), (3,0).\n",
    "\n",
    "So in order to calculate said probability, we have to calculate the areas of the 2 triangles and divide the area of the smaller triangle by the area of the larger triangle.\n",
    "\n",
    "We shall name the area of the larger triangle: $S_{larger}$ and of the smaller: $S_{smaller}$. Hence what we have to calculate is:$$ P = \\frac{S_{smaller}}{S_{larger}} $$Lets caclulate:$$ S_{smaller} = \\frac{0.4 \\times 2}{2} = 0.4 $$The area of the larger triangle is the area of the smaller triangle plus the area of the rest of the larger triangle which itself is a triangle.$$ S_{larger} = S_{smaller} + \\frac{0.4 \\times 3}{2} = 0.4 + 0.6 = 1 $$$$ P = \\frac{S_{smaller}}{S_{larger}} = \\frac{0.4}{1} = 0.4 $$\n",
    "\n",
    "**Final Answer:** $ P(x > 3) = 0.4$"
   ]
  },
  {
   "cell_type": "markdown",
   "metadata": {},
   "source": [
    "**Question 6:**\n",
    "\n",
    "A company has 500 employees, and 60% of them have children. Suppose that we randomly select 4 of these employees. What is the probability that exactly 3 of the 4 employees selected have children?"
   ]
  },
  {
   "cell_type": "markdown",
   "metadata": {},
   "source": [
    "**Answer:**\n",
    "\n",
    "First, let's determine the amount of employees with children and the amount of those without:$$ 500 \\times 0.6 = 300 $$$$ 500 - 300 = 200 $$From the calculations follows that there are 300 employees with children and 200 without. Next, we have to caculate the probability that exactly 3 of the 4 randomly chosen have children (note that when one person is chosen, the amount of unchosen people lessens by 1 and the group from which the person was chosen lessens by 1 too):$$ \\frac{300}{500} \\times \\frac{299}{499} \\times \\frac{298}{498} \\times \\frac{200}{497} = 0.08657 $$\n",
    "What remains is multiplying this answer by 4, due to there being 4 possible combinations whether the employee who has no children is chosen first, second, third or forth. Each of these possibilities has the same probability of occuring, hence we do the following:$$ 0.08657 \\times 4 = 0.34628 $$\n",
    "\n",
    "**Final Answer:** The probability that exactlyt 3 of the 4 emloyees randomly chosen have children is 0.34628"
   ]
  },
  {
   "cell_type": "markdown",
   "metadata": {},
   "source": [
    "**Question 7:**\n",
    "\n",
    "Look at the next Graph. What is the expected value of X?"
   ]
  },
  {
   "cell_type": "markdown",
   "metadata": {},
   "source": [
    "**Answer:**\n",
    "\n",
    "When we look at the graph presented, we can see that it is symmetrical at $x = 0$, hence the average of the graph, too, is 0. To double check, let us calculate the average value of X which is multiplying each columns x value by y value, summing them and dividing by the number of columns (5).\n",
    "\n",
    "$$ avg = \\frac{(-10 \\times 0.1) + (10 \\times 0.1) + (-5 \\times 0.35) + (5 \\times 0.35) + (0 \\times 0.1)}{5} = \\frac{0}{5} = 0  $$\n",
    "\n",
    "**Final Answer:** The expected value of X is 0"
   ]
  }
 ],
 "metadata": {
  "kernelspec": {
   "display_name": "Python 3",
   "language": "python",
   "name": "python3"
  },
  "language_info": {
   "codemirror_mode": {
    "name": "ipython",
    "version": 3
   },
   "file_extension": ".py",
   "mimetype": "text/x-python",
   "name": "python",
   "nbconvert_exporter": "python",
   "pygments_lexer": "ipython3",
   "version": "3.7.3"
  }
 },
 "nbformat": 4,
 "nbformat_minor": 2
}
